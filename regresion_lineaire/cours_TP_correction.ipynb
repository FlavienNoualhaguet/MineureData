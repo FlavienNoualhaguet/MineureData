{
 "cells": [
  {
   "cell_type": "markdown",
   "metadata": {},
   "source": [
    "## Modèle linéaire"
   ]
  },
  {
   "cell_type": "markdown",
   "metadata": {},
   "source": [
    "Modéliser une variable $Y$ (variable à expliquer, réponse) en fonction d'une ou plusieurs variables explicatives $X_1,...,X_p$ (covariables).\n",
    "\n",
    "On cherche une fonction $f$ telle que \n",
    "$$Y \\approx f(X_1,...,X_p)$$ \n",
    "\n",
    "Dans ce cours, on supposera que $Y$ est une variable quantitative et que $f$ est une fonction affine. \n",
    "\n",
    "La fonction $f$ qui minimise le coût quadratique $f \\mapsto \\mathbb E \\big(Y - f(X_1,...,X_p) \\big)^2$ est l'espérance conditionnelle \n",
    "\n",
    "$$ f(X_1,...,X_p) = \\mathbb E(Y \\vert X_1,...,X_p).  $$\n",
    "\n",
    "Dans le cas Gaussien, l'espérance conditionnelle est une fonction affine:\n",
    "\n",
    "$$ f(X_1,...,X_p) = \\beta_0 + \\beta_1 X_1 + ... + \\beta_p X_p,    $$\n",
    "\n",
    "qui est la forme étudiée dans le cadre de la régression linéaire."
   ]
  },
  {
   "cell_type": "markdown",
   "metadata": {},
   "source": [
    "#### Application aux données du Cancer de la prostate (Stamey et al. 1989)\n",
    "\n",
    "On étudie les liens entre le niveau d'un antigène (PSA) et des mesures cliniques chez 97 patients. On cherchera à expliquer le logarithme du taux d'antigène PSA (variable __lpsa__) à partir des différentes variables explicatives du jeu de données."
   ]
  },
  {
   "cell_type": "code",
   "execution_count": 2,
   "metadata": {},
   "outputs": [],
   "source": [
    "# pip install numpy == 1.19.3\n",
    "# pip install sklearn\n",
    "# pip install statsmodels\n",
    "import pandas as pd\n",
    "import numpy as np\n",
    "import matplotlib.pyplot as plt\n",
    "\n",
    "prostate = pd.read_csv(\"ProstateCancerData.csv\", sep = \";\", header = 0)"
   ]
  },
  {
   "cell_type": "markdown",
   "metadata": {},
   "source": [
    "#### Visualisation des données "
   ]
  },
  {
   "cell_type": "code",
   "execution_count": 3,
   "metadata": {},
   "outputs": [
    {
     "data": {
      "text/html": [
       "<div>\n",
       "<style scoped>\n",
       "    .dataframe tbody tr th:only-of-type {\n",
       "        vertical-align: middle;\n",
       "    }\n",
       "\n",
       "    .dataframe tbody tr th {\n",
       "        vertical-align: top;\n",
       "    }\n",
       "\n",
       "    .dataframe thead th {\n",
       "        text-align: right;\n",
       "    }\n",
       "</style>\n",
       "<table border=\"1\" class=\"dataframe\">\n",
       "  <thead>\n",
       "    <tr style=\"text-align: right;\">\n",
       "      <th></th>\n",
       "      <th>lcavol</th>\n",
       "      <th>lweight</th>\n",
       "      <th>age</th>\n",
       "      <th>lbph</th>\n",
       "      <th>svi</th>\n",
       "      <th>lcp</th>\n",
       "      <th>gleason</th>\n",
       "      <th>pgg45</th>\n",
       "      <th>lpsa</th>\n",
       "      <th>train</th>\n",
       "    </tr>\n",
       "  </thead>\n",
       "  <tbody>\n",
       "    <tr>\n",
       "      <th>0</th>\n",
       "      <td>-0.579818</td>\n",
       "      <td>2.769459</td>\n",
       "      <td>50</td>\n",
       "      <td>-1.386294</td>\n",
       "      <td>0</td>\n",
       "      <td>-1.386294</td>\n",
       "      <td>6</td>\n",
       "      <td>0</td>\n",
       "      <td>-0.430783</td>\n",
       "      <td>T</td>\n",
       "    </tr>\n",
       "    <tr>\n",
       "      <th>1</th>\n",
       "      <td>-0.994252</td>\n",
       "      <td>3.319626</td>\n",
       "      <td>58</td>\n",
       "      <td>-1.386294</td>\n",
       "      <td>0</td>\n",
       "      <td>-1.386294</td>\n",
       "      <td>6</td>\n",
       "      <td>0</td>\n",
       "      <td>-0.162519</td>\n",
       "      <td>T</td>\n",
       "    </tr>\n",
       "    <tr>\n",
       "      <th>2</th>\n",
       "      <td>-0.510826</td>\n",
       "      <td>2.691243</td>\n",
       "      <td>74</td>\n",
       "      <td>-1.386294</td>\n",
       "      <td>0</td>\n",
       "      <td>-1.386294</td>\n",
       "      <td>7</td>\n",
       "      <td>20</td>\n",
       "      <td>-0.162519</td>\n",
       "      <td>T</td>\n",
       "    </tr>\n",
       "    <tr>\n",
       "      <th>3</th>\n",
       "      <td>-1.203973</td>\n",
       "      <td>3.282789</td>\n",
       "      <td>58</td>\n",
       "      <td>-1.386294</td>\n",
       "      <td>0</td>\n",
       "      <td>-1.386294</td>\n",
       "      <td>6</td>\n",
       "      <td>0</td>\n",
       "      <td>-0.162519</td>\n",
       "      <td>T</td>\n",
       "    </tr>\n",
       "    <tr>\n",
       "      <th>4</th>\n",
       "      <td>0.751416</td>\n",
       "      <td>3.432373</td>\n",
       "      <td>62</td>\n",
       "      <td>-1.386294</td>\n",
       "      <td>0</td>\n",
       "      <td>-1.386294</td>\n",
       "      <td>6</td>\n",
       "      <td>0</td>\n",
       "      <td>0.371564</td>\n",
       "      <td>T</td>\n",
       "    </tr>\n",
       "  </tbody>\n",
       "</table>\n",
       "</div>"
      ],
      "text/plain": [
       "     lcavol   lweight  age      lbph  svi       lcp  gleason  pgg45      lpsa  \\\n",
       "0 -0.579818  2.769459   50 -1.386294    0 -1.386294        6      0 -0.430783   \n",
       "1 -0.994252  3.319626   58 -1.386294    0 -1.386294        6      0 -0.162519   \n",
       "2 -0.510826  2.691243   74 -1.386294    0 -1.386294        7     20 -0.162519   \n",
       "3 -1.203973  3.282789   58 -1.386294    0 -1.386294        6      0 -0.162519   \n",
       "4  0.751416  3.432373   62 -1.386294    0 -1.386294        6      0  0.371564   \n",
       "\n",
       "  train  \n",
       "0     T  \n",
       "1     T  \n",
       "2     T  \n",
       "3     T  \n",
       "4     T  "
      ]
     },
     "execution_count": 3,
     "metadata": {},
     "output_type": "execute_result"
    }
   ],
   "source": [
    "prostate.head()"
   ]
  },
  {
   "cell_type": "markdown",
   "metadata": {},
   "source": [
    "La représentation graphique des données individuellement et deux-à-deux peut apporter des informations sur le types des variables, leurs valeurs possibles, leurs liens directs, la présence de données manquantes ou aberrantes etc..."
   ]
  },
  {
   "cell_type": "code",
   "execution_count": 3,
   "metadata": {},
   "outputs": [
    {
     "data": {
      "image/png": "[encoded data removed]",
      "text/plain": [
       "<Figure size 1080x360 with 3 Axes>"
      ]
     },
     "metadata": {
      "needs_background": "light"
     },
     "output_type": "display_data"
    }
   ],
   "source": [
    "fig = plt.figure(1, figsize=(15, 5))\n",
    "\n",
    "plt.subplot(1, 3, 1)\n",
    "plt.hist(prostate[\"lcavol\"])\n",
    "plt.xlabel(\"lcavol\")\n",
    "\n",
    "plt.subplot(1, 3, 2)\n",
    "plt.hist(prostate[\"lpsa\"])\n",
    "plt.xlabel(\"lpsa\")\n",
    "\n",
    "plt.subplot(1, 3, 3)\n",
    "plt.hist(prostate[\"svi\"])\n",
    "plt.xlabel(\"svi\")\n",
    "\n",
    "plt.show()"
   ]
  },
  {
   "cell_type": "markdown",
   "metadata": {},
   "source": [
    "__Corrélation linéaire__\n",
    "\n",
    "Soit deux variables $x,y \\in \\mathbb R^n$, on note:\n",
    "\n",
    "- $\\overline x = \\frac 1 n \\sum_{i=1}^n x_i$ la moyenne empirique de $x$ (resp. $y$)\n",
    "\n",
    "- $\\sigma_x^2 = \\frac 1 n \\sum_{i=1}^n (x_i - \\overline x)^2 $ la variance empirique de $x$ (resp. $y$)\n",
    "\n",
    "- $\\sigma_{xy} = \\frac 1 n \\sum_{i=1}^n x_i y_i - \\overline x \\ \\overline y$ la covariance empirique entre $x$ et $y$. \n",
    "\n",
    "Le __coefficient de corrélation linéaire__ ou __coefficient de corrélation de Pearson__ est défini par\n",
    "\n",
    "$$ \\rho_{xy} = \\frac{\\sigma_{xy}}{\\sigma_x \\sigma_y} \\in [-1; 1].    $$ \n",
    "\n",
    "$\\rho_{xy} $ est proche de $1$ (resp. $-1$) s'il existe un lien affine croissant (resp. décroissant) fort entre $x$ et $y$."
   ]
  },
  {
   "cell_type": "markdown",
   "metadata": {},
   "source": [
    "_Question 1. Calculer la corrélation linéaire entre les variables __lcavol__ et __lpsa__ puis entre les variables __lweight__ et __lcavol__ en utilisant la fonction __pearsonr__ de la librairie __scipy.stats__. Représenter les nuages de points correspondants._"
   ]
  },
  {
   "cell_type": "code",
   "execution_count": 4,
   "metadata": {},
   "outputs": [
    {
     "data": {
      "image/png": "[encoded data removed]",
      "text/plain": [
       "<Figure size 720x360 with 2 Axes>"
      ]
     },
     "metadata": {
      "needs_background": "light"
     },
     "output_type": "display_data"
    }
   ],
   "source": [
    "from scipy.stats import pearsonr\n",
    "\n",
    "fig = plt.figure(1, figsize=(10, 5))\n",
    "\n",
    "plt.subplot(1, 2, 1)\n",
    "plt.scatter(prostate[\"lcavol\"], prostate[\"lpsa\"])\n",
    "plt.text(-1, 5, \"cor = \" + str(round(pearsonr(prostate[\"lcavol\"], prostate[\"lpsa\"])[0], 3)))\n",
    "plt.xlabel(\"lcavol\")\n",
    "plt.ylabel(\"lpsa\")\n",
    "\n",
    "plt.subplot(1, 2, 2)\n",
    "plt.scatter(prostate[\"lpsa\"], prostate[\"age\"])\n",
    "plt.text(0, 77, \"cor = \" + str(round(pearsonr(prostate[\"lpsa\"], prostate[\"age\"])[0], 3)))\n",
    "plt.xlabel(\"lpsa\")\n",
    "plt.ylabel(\"age\")\n",
    "\n",
    "plt.show()"
   ]
  },
  {
   "cell_type": "markdown",
   "metadata": {},
   "source": [
    "La représentation graphique entre une variables qualitative et une variable quantitative peut se faire pas des boîtes à moustaches."
   ]
  },
  {
   "cell_type": "code",
   "execution_count": 5,
   "metadata": {},
   "outputs": [
    {
     "data": {
      "image/png": "[encoded data removed]",
      "text/plain": [
       "<Figure size 432x288 with 1 Axes>"
      ]
     },
     "metadata": {
      "needs_background": "light"
     },
     "output_type": "display_data"
    }
   ],
   "source": [
    "prostate.boxplot(by = 'svi', column = ['lpsa'], grid = False)\n",
    "plt.ylabel(\"lpsa\")\n",
    "plt.title(\"\")\n",
    "plt.show()"
   ]
  },
  {
   "cell_type": "markdown",
   "metadata": {},
   "source": [
    "### Régression linéaire simple\n",
    "\n",
    "On n'utilise qu'une seule variable explicative $X$ ($p=1$). \n",
    "\n",
    "On observe un échantillon $\\{ y_i,x_i \\}_{i=1,...,n}$ dont on suppose qu'il vérifie une relation de la forme\n",
    "\n",
    "$$ y_i = \\beta_0 + \\beta_1 x_i + \\epsilon_i, \\ \\ i=1,...,n.   $$\n",
    "\n",
    "Le modèle s'écrit sous la forme matricielle\n",
    "\n",
    "$$ y = X \\beta + \\epsilon    $$\n",
    "\n",
    "avec\n",
    "\n",
    "$$y = \\left( \\begin{array}{c} y_1 \\\\ \\vdots \\\\ y_n   \\end{array} \\right) \\ , \\  X = \\left( \\begin{array}{cc} 1 & x_1 \\\\ \\vdots & \\vdots \\\\ 1 & x_n   \\end{array} \\right) \\ , \\ \\beta= \\left( \\begin{array}{c} \\beta_0 \\\\ \\beta_1   \\end{array} \\right) \\ \\text{ et } \\ \\epsilon =  \\left( \\begin{array}{c} \\epsilon_1 \\\\ \\vdots \\\\ \\epsilon_n   \\end{array} \\right). $$\n",
    "\n",
    "Le cadre théorique classique du modèle sont les suivantes:\n",
    "- Les $x_i$ sont traités comme __déterministes__ (non aléatoires), l'alea est uniquement dû à la présence des bruits $\\epsilon_i$. \n",
    "- $y$ et $\\epsilon$ sont des réalisations de variables aléatoires.\n",
    "- $X$ et $\\beta$ sont déterministes.\n",
    "\n",
    "Par ailleurs:\n",
    "- $y$ et $X$ sont connus / observés.\n",
    "- $\\epsilon$ et $\\beta$ sont inconnus.\n",
    "\n",
    "On suppose que les bruits $\\epsilon_i$ sont\n",
    "- centrés: $\\mathbb E (\\epsilon_i) = 0$,\n",
    "- non-corrélés: $\\forall i \\neq j, \\operatorname{cov}(\\epsilon_i, \\epsilon_j) = 0$,\n",
    "- de variances égales (homoscédastiques): $\\operatorname{var}(\\epsilon_i) = \\sigma^2 < \\infty$.\n",
    "\n",
    "Sous forme matricielle:\n",
    "\n",
    "$$\\mathbb E(\\epsilon) = 0 \\ \\ \\text{ et } \\ \\ \\operatorname{var} ( \\epsilon) = \\sigma^2 I.$$ \n",
    "\n",
    "Parfois, on suppose en plus que les $\\epsilon_i$ sont Gaussiens."
   ]
  },
  {
   "cell_type": "markdown",
   "metadata": {},
   "source": [
    "__Méthode des moindres carrés__\n",
    "\n",
    "L'estimateur des __moindres carrés ordinaires (MCO)__ $\\hat \\beta = (\\hat \\beta_0, \\hat \\beta_1)^\\top$ minimise\n",
    "\n",
    "$$ b \\mapsto \\Vert y - X b \\Vert^2  = \\sum_{i=1}^n (y_i - b_0 - b_1 x_i )^2, \\ \\ b=(b_0,b_1)^\\top \\in \\mathbb R^2.   $$\n",
    "\n",
    "Il a pour une forme explicite\n",
    "\n",
    "$$ \\hat \\beta_1 =  \\frac{\\sigma_{xy}}{\\sigma_x^2} \\ \\ \\ \\text{ et } \\ \\ \\ \\hat \\beta_0 = \\bar y - \\hat \\beta_1 \\bar x.  $$\n",
    "\n",
    "La droite $x \\mapsto \\hat \\beta_0 + \\hat \\beta_1 x$ est appelée la __droite de régression__."
   ]
  },
  {
   "cell_type": "markdown",
   "metadata": {},
   "source": [
    "_Application:_ Régression linéaire de __lpsa__ en fonction de __lweight__."
   ]
  },
  {
   "cell_type": "code",
   "execution_count": 6,
   "metadata": {},
   "outputs": [],
   "source": [
    "y = prostate[\"lpsa\"]\n",
    "x = prostate[\"lweight\"]"
   ]
  },
  {
   "cell_type": "markdown",
   "metadata": {},
   "source": [
    "_Question 2: Calculer l'estimateur $\\hat \\beta$ des moindres carrés et représenter le nuage de points avec la droite de régression._"
   ]
  },
  {
   "cell_type": "code",
   "execution_count": 7,
   "metadata": {},
   "outputs": [
    {
     "data": {
      "image/png": "[encoded data removed]",
      "text/plain": [
       "<Figure size 432x288 with 1 Axes>"
      ]
     },
     "metadata": {
      "needs_background": "light"
     },
     "output_type": "display_data"
    }
   ],
   "source": [
    "b1 = np.cov(x,y)[0, 1]/np.var(x)\n",
    "b0 = np.mean(y) - np.mean(x)*b1\n",
    "plt.scatter(x, y)\n",
    "ypred = b0 + b1*x\n",
    "plt.plot(x, ypred, '-', color = 'orange')\n",
    "plt.xlabel(\"lcavol\")\n",
    "plt.ylabel(\"lpsa\")\n",
    "plt.show()"
   ]
  },
  {
   "cell_type": "markdown",
   "metadata": {},
   "source": [
    "### Régression linéaire multiple"
   ]
  },
  {
   "cell_type": "markdown",
   "metadata": {},
   "source": [
    "Généralisation à plusieurs variables explicatives $X_1,...,X_p$, on observe des réalisations indépendantes $\\{ y_i, x_{1i},...,x_{pi} \\}_{i=1,...,n}$, avec\n",
    "\n",
    "$$ y_i = \\beta_0 + \\beta_1 x_{1i} + ... + \\beta_p x_{pi} + \\epsilon_i, \\ i=1,...,n,   $$\n",
    "\n",
    "où les $\\epsilon_i$ sont supposés centrés, de même variance $\\sigma^2 < \\infty$ et non-corrélés. \n",
    "\n",
    "Le modèle s'écrit sous forme matricielle\n",
    "\n",
    "$$  y = X \\beta + \\epsilon,   $$\n",
    "\n",
    "avec \n",
    "\n",
    "$$y = \\left( \\begin{array}{c} y_1 \\\\ \\vdots \\\\ y_n   \\end{array} \\right) \\ , \\  X = \\left( \\begin{array}{cccc} 1 & x_{11} & \\dots & x_{p1}  \\\\ \\vdots & \\vdots & \\ddots & \\vdots \\\\ 1 & x_{1n} & \\dots & x_{pn}   \\end{array} \\right) \\ , \\ \\beta= \\left( \\begin{array}{c} \\beta_0 \\\\ \\beta_1 \\\\ \\vdots \\\\ \\beta_p  \\end{array} \\right) \\ \\text{ et } \\ \\epsilon =  \\left( \\begin{array}{c} \\epsilon_1 \\\\ \\vdots \\\\ \\epsilon_n   \\end{array} \\right) $$\n",
    "\n",
    "L'estimateur des MCO $\\hat \\beta$, qui minimise \n",
    "\n",
    "$$ b \\mapsto \\Vert y - X b \\Vert^2 \\ , \\ b = (b_0, b_1, ..., b_p)^\\top \\in \\mathbb R^{p+1} $$\n",
    "\n",
    "est donné par\n",
    "\n",
    "$$ \\hat \\beta = \\big( X^\\top X \\big)^{-1} X^\\top y.   $$\n",
    "\n",
    "à condition que la matrice $X^\\top X$ soit inversible. Si ce n'est pas le cas, il y a plusieurs solutions au problème de minimisation de l'erreur quadratique, le modèle est quelque sorte mal identifié.\n",
    "\n",
    "$ \\hat y = X \\hat \\beta$ est le vecteur des valeurs prédites par le modèle.\n",
    "\n",
    "$ \\hat \\epsilon = y - \\hat y$ est le vecteur des résidus.\n",
    "\n",
    "Interprétation géométrique:\n",
    "\n",
    "- $\\hat y = X ( X^\\top X )^{-1} X^\\top y := \\Pi_{X} y$ est la projection orthogonale de $y$ sur $\\operatorname{im}(X)$ dans $\\mathbb R^n$. Comme $X$ est déterministe, on vérifie facilement que $\\mathbb E ( \\hat y ) = X \\beta$.\n",
    "\n",
    "\n",
    "- $\\hat \\epsilon = \\Pi_{X^\\perp} y$ est la projection orthogonale de $y$ sur $\\operatorname{im}(X)^\\perp$. En remarquant que $y = X \\beta + \\epsilon$ et $X \\beta \\in \\operatorname{im}(X)$, on déduit que $\\hat \\epsilon = \\Pi_{X^\\perp} y = \\Pi_{X^\\perp} \\epsilon$. Autrement dit, même si on n'observe pas $\\epsilon$, on connaît sa projection sur  $\\operatorname{im}(X)^\\perp$, le vecteur des résidus $\\hat \\epsilon$.\n",
    "\n",
    "\n",
    "- $\\mathbb E(\\hat \\epsilon) = 0$ et  $\\operatorname{var}(\\hat \\epsilon) = \\sigma^2 \\Pi_{X^\\perp}$\n",
    "\n",
    "\n",
    "- $\\hat \\sigma^2 = \\frac{1}{n - (p + 1)} \\Vert \\hat \\epsilon \\Vert^2$ est un estimateur sans biais de $\\sigma^2 = \\operatorname{var}( \\epsilon_i)$. La quantité $n - (p + 1)$ représente le nombre de degrés de liberté dans le modèle."
   ]
  },
  {
   "cell_type": "markdown",
   "metadata": {},
   "source": [
    "_Application:_ Régression linéaire multiple de __lpsa__ en fonction des variables __lcavol__, __lweight__, __age__, __lbph__,  __svi__,   __lcp__ et __gleason__, que l'on traitera comme des variables quantitatives. "
   ]
  },
  {
   "cell_type": "markdown",
   "metadata": {},
   "source": [
    "_Question 3. Calculer l'estimateur $\\hat \\beta$ des moindres carrés dans le modèle de régression linéaire multiple. Comparer avec les résultats de la fonction __LinearRegression__ de la librairie __sklearn.linear_model__._ "
   ]
  },
  {
   "cell_type": "code",
   "execution_count": 39,
   "metadata": {},
   "outputs": [
    {
     "name": "stdout",
     "output_type": "stream",
     "text": [
      "Coefficients estimés =  [-0.45757219  0.55215877  0.62111759 -0.01976385  0.0983468   0.7927568\n",
      " -0.07591129  0.14863413]\n",
      "Coefficients estimés par sklearn =  -0.45757218835176605 [ 0.55215877  0.62111759 -0.01976385  0.0983468   0.7927568  -0.07591129\n",
      "  0.14863413]\n"
     ]
    }
   ],
   "source": [
    "# construction de la matrice X\n",
    "import statsmodels.api as sm\n",
    "X = sm.add_constant(pd.DataFrame(prostate.drop(columns = [\"lpsa\", \"train\", \"pgg45\"], axis = 1))) \n",
    "\n",
    "b = np.dot(np.linalg.inv(np.dot(X.transpose(), X)), np.dot(X.transpose(), y))\n",
    "print(\"Coefficients estimés = \", b)\n",
    "\n",
    "from sklearn import linear_model\n",
    "model = linear_model.LinearRegression()\n",
    "results = model.fit(X, y)\n",
    "\n",
    "print(\"Coefficients estimés par sklearn = \", results.intercept_, results.coef_[1:])"
   ]
  },
  {
   "cell_type": "markdown",
   "metadata": {},
   "source": [
    "_Question 4. Représenter graphiquement la prédiction $\\hat y = X \\hat \\beta$ en fonction de $y$ et comparer avec l'ajustement précédent._ "
   ]
  },
  {
   "cell_type": "code",
   "execution_count": 11,
   "metadata": {},
   "outputs": [
    {
     "data": {
      "image/png": "[encoded data removed]",
      "text/plain": [
       "<Figure size 720x360 with 2 Axes>"
      ]
     },
     "metadata": {
      "needs_background": "light"
     },
     "output_type": "display_data"
    }
   ],
   "source": [
    "ypred2 = np.dot(X, b)\n",
    "\n",
    "fig = plt.figure(1, figsize=(10, 5))\n",
    "\n",
    "plt.subplot(1, 2, 1)\n",
    "plt.plot(y, y, '-', color = 'black')\n",
    "plt.scatter(y, ypred)\n",
    "plt.xlabel(\"lpsa\")\n",
    "plt.ylabel(\"prédiction régression simple (lweight)\")\n",
    "\n",
    "plt.subplot(1, 2, 2)\n",
    "plt.plot(y, y, '-', color = 'black')\n",
    "plt.scatter(y, ypred2)\n",
    "plt.xlabel(\"lpsa\")\n",
    "plt.ylabel(\"prédiction régression multiple\")\n",
    "\n",
    "plt.show()"
   ]
  },
  {
   "cell_type": "markdown",
   "metadata": {},
   "source": [
    "On mesure la __qualité d'ajustement__ d'un modèle en comparant la variance de la variable d'intérêt $y$ à celle de sa prédiction $\\hat y$. Comme $\\hat y$ est une projection orthogonale de $y$ sur un sous-espace de $\\mathbb R^n$ (qui contient le vecteur constant), la variance de $\\hat y$ est toujours inférieure ou égale à celle de $y$. \n",
    "\n",
    "- $\\frac 1 n \\Vert y - \\overline y \\Vert^2 = \\frac 1 n \\sum_{i=1}^n (y_i - \\overline y)^2$ est la __variance totale__\n",
    "\n",
    "\n",
    "- $\\frac 1 n \\Vert \\hat y - \\overline y \\Vert^2 = \\frac 1 n \\sum_{i=1}^n (\\hat y_i - \\overline y)^2$ est la __variance expliquée__\n",
    "\n",
    "\n",
    "- $\\frac 1 n \\Vert y - \\hat y \\Vert^2 = \\frac 1 n \\Vert \\hat \\epsilon \\Vert^2 = \\frac 1 n \\sum_{i=1}^n (y_i - \\hat y_i)^2$ est la __variance résiduelle__\n",
    "\n",
    "\n",
    "Le théorème de Pythagore nous donne: \n",
    "\n",
    "$$\\begin{array}{ccccc} \\underbrace{\\frac 1 n \\Vert y - \\overline y \\Vert^2} & = & \\underbrace{\\frac 1 n \\Vert \\hat y - \\overline y \\Vert^2} & + & \\underbrace{\\frac 1 n \\Vert y - \\hat y \\Vert^2} \\\\ \n",
    "\\text{variance totale} & & \\text{variance expliquée} & &  \\text{variance résiduelle} \\end{array} $$\n",
    "\n",
    "Le coefficient de détermination du modèle est donnée par\n",
    "\n",
    "$$ R^2 = \\frac{\\Vert \\hat y - \\overline y \\Vert^2}{\\Vert y - \\overline y \\Vert^2} = 1 - \\frac{\\Vert \\hat \\epsilon \\Vert^2}{\\Vert y - \\overline y \\Vert^2} \\in [0;1].  $$\n",
    "\n",
    "Il mesure la part de la variance de $y$ expliquée par le modèle. Dans le cas univarié $p =1$, on a $R^2 = \\rho_{xy}^2$. \n",
    "Dans le cas général, on peut montrer que $R^2 = \\max \\{ \\rho_{yz}^2 : z \\in \\operatorname{Im}(X) \\}$."
   ]
  },
  {
   "cell_type": "markdown",
   "metadata": {},
   "source": [
    "_Question 5. Comparer les qualités d'ajustement des modèles simple et multiple._"
   ]
  },
  {
   "cell_type": "code",
   "execution_count": 12,
   "metadata": {},
   "outputs": [
    {
     "name": "stdout",
     "output_type": "stream",
     "text": [
      "Modèle de régression linéaire simple: R2 =  0.1917\n",
      "Modèle de régression linéaire multiple: R2 =  0.6594\n"
     ]
    }
   ],
   "source": [
    "R2_simple = np.var(ypred) / np.var(y)\n",
    "R2_multi = np.var(ypred2) / np.var(y)\n",
    "\n",
    "print(\"Modèle de régression linéaire simple: R2 = \", round(R2_simple, 4))\n",
    "print(\"Modèle de régression linéaire multiple: R2 = \", round(R2_multi, 4))"
   ]
  },
  {
   "cell_type": "markdown",
   "metadata": {},
   "source": [
    "__Test de normalité__\n",
    "\n",
    "Il existe des méthodes pour tester l'hypothèse de normalité: $H_0 : \\epsilon_i \\sim \\mathcal N(0, \\sigma^2) , \\forall i=1,...,n$. En régression linéaire, le test le plus couramment utilisé et le test de Shapiro (fonction __shapiro__ de la librairie __scipy.stats__)"
   ]
  },
  {
   "cell_type": "markdown",
   "metadata": {},
   "source": [
    "_Question 6. Représenter les histogrammes des résidus et implémenter les tests de Shapiro dans les deux modèles considérés._"
   ]
  },
  {
   "cell_type": "code",
   "execution_count": 13,
   "metadata": {},
   "outputs": [
    {
     "data": {
      "image/png": "[encoded data removed]",
      "text/plain": [
       "<Figure size 720x360 with 2 Axes>"
      ]
     },
     "metadata": {
      "needs_background": "light"
     },
     "output_type": "display_data"
    },
    {
     "name": "stdout",
     "output_type": "stream",
     "text": [
      "Modèle simple, test de normalité des résidus: pvalue = 0.201\n",
      "Modèle multiple, test de normalité des résidus: pvalue = 0.409\n"
     ]
    }
   ],
   "source": [
    "import scipy.stats as ss\n",
    "\n",
    "res = y - ypred\n",
    "res2 = y - ypred2\n",
    "\n",
    "fig = plt.figure(1, figsize=(10, 5))\n",
    "\n",
    "plt.subplot(1, 2, 1)\n",
    "plt.hist(res)\n",
    "plt.title(\"Résidus modèle simple\")\n",
    "\n",
    "plt.subplot(1, 2, 2)\n",
    "plt.hist(res2)\n",
    "plt.title(\"Résidus modèle multiple\")\n",
    "\n",
    "plt.show()\n",
    "\n",
    "print(\"Modèle simple, test de normalité des résidus: pvalue =\", round(ss.shapiro(res)[1], 3))\n",
    "print(\"Modèle multiple, test de normalité des résidus: pvalue =\", round(ss.shapiro(res2)[1],3))"
   ]
  },
  {
   "cell_type": "markdown",
   "metadata": {},
   "source": [
    "__Significativité__\n",
    "\n",
    "Pour tester la significativité globale du modèle, on considère l'hypothèse\n",
    "\n",
    "$$ H_0: \\beta_1 = ... = \\beta_p = 0  $$\n",
    "\n",
    "Cette condition traduit l'hypothèse qu'aucune des variables explicatives $X_1, ..., X_p$ n'est pertinente pour expliquer (linéairement) la variable réponse $y$.\n",
    "\n",
    "_Proposition (test de significativité globale). Si $\\epsilon$ est Gaussien, alors la statistique_\n",
    "$$ F := \\frac{ n - (p+1)}{p} \\frac{\\Vert \\hat y - \\overline y \\Vert^2}{\\Vert y - \\hat y \\Vert^2}   $$\n",
    "_suit, sous $H_0$, une loi de Fisher à $p$ et $ n - (p+1)$ degrés de liberté._\n",
    "\n",
    "On rejette $H_0$ si la valeur observée de $F$ est trop grande et jugée aberrante pour une loi de Fisher à $p$ et $ n - (p+1)$ degrés de liberté. Dans ce cas, le modèle est dit globalement significatif. \n",
    "\n",
    "Si l'hypothèse $H_0$ n'est pas vraie, alors on peut montrer que $F \\overset{\\mathbb P}{\\longrightarrow} + \\infty$. Le test est donc consistant.\n",
    "\n",
    "\n",
    "La significativité globale n'implique pas la pertinence de toutes les variables. Pour tester la pertinence d'une variable $X_j$ dans le modèle, on pose l'hypothèse\n",
    "\n",
    "$$ H_0: \\beta_j = 0  $$\n",
    "\n",
    "qui traduit que la variable $X_j$ n'est pas influente dans le modèle.\n",
    "\n",
    "\n",
    "_Proposition (test de significativité d'un coefficient). Si $\\epsilon$ est Gaussien, alors_ \n",
    "$$ T_j : = \\frac{\\hat \\beta_j}{\\hat \\sigma ( (X^\\top X)^{-1} )_{jj}} $$\n",
    "_suit, sous $H_0$, une loi de Student à $n - (p + 1)$ degrés de liberté._\n",
    "\n",
    "\n",
    "Le test se généralise à des hypothèses de la forme $H_0 : A \\beta + b = 0$.\n",
    "\n",
    "La condition de normalité de $\\epsilon$ est nécessaire en théorie mais souvent négligée en pratique."
   ]
  },
  {
   "cell_type": "markdown",
   "metadata": {},
   "source": [
    "La différents tests de significativité sont implémentés directement par la fonction __OLS__ de la librairie __statsmodels.api__."
   ]
  },
  {
   "cell_type": "code",
   "execution_count": 112,
   "metadata": {},
   "outputs": [
    {
     "name": "stdout",
     "output_type": "stream",
     "text": [
      "                            OLS Regression Results                            \n",
      "==============================================================================\n",
      "Dep. Variable:                   lpsa   R-squared:                       0.659\n",
      "Model:                            OLS   Adj. R-squared:                  0.633\n",
      "Method:                 Least Squares   F-statistic:                     24.61\n",
      "Date:                Tue, 22 Feb 2022   Prob (F-statistic):           2.43e-18\n",
      "Time:                        16:01:02   Log-Likelihood:                -98.819\n",
      "No. Observations:                  97   AIC:                             213.6\n",
      "Df Residuals:                      89   BIC:                             234.2\n",
      "Df Model:                           7                                         \n",
      "Covariance Type:            nonrobust                                         \n",
      "==============================================================================\n",
      "                 coef    std err          t      P>|t|      [0.025      0.975]\n",
      "------------------------------------------------------------------------------\n",
      "const         -0.4576      1.163     -0.393      0.695      -2.769       1.853\n",
      "lcavol         0.5522      0.087      6.344      0.000       0.379       0.725\n",
      "lweight        0.6211      0.201      3.091      0.003       0.222       1.020\n",
      "age           -0.0198      0.011     -1.798      0.076      -0.042       0.002\n",
      "lbph           0.0983      0.058      1.698      0.093      -0.017       0.213\n",
      "svi            0.7928      0.239      3.313      0.001       0.317       1.268\n",
      "lcp           -0.0759      0.085     -0.894      0.374      -0.245       0.093\n",
      "gleason        0.1486      0.121      1.228      0.223      -0.092       0.389\n",
      "==============================================================================\n",
      "Omnibus:                        0.389   Durbin-Watson:                   1.538\n",
      "Prob(Omnibus):                  0.823   Jarque-Bera (JB):                0.099\n",
      "Skew:                          -0.043   Prob(JB):                        0.952\n",
      "Kurtosis:                       3.130   Cond. No.                     1.07e+03\n",
      "==============================================================================\n",
      "\n",
      "Notes:\n",
      "[1] Standard Errors assume that the covariance matrix of the errors is correctly specified.\n",
      "[2] The condition number is large, 1.07e+03. This might indicate that there are\n",
      "strong multicollinearity or other numerical problems.\n"
     ]
    }
   ],
   "source": [
    "import statsmodels.api as sm\n",
    "model = sm.OLS(y, X)\n",
    "fit = model.fit()\n",
    "print(fit.summary())"
   ]
  },
  {
   "cell_type": "markdown",
   "metadata": {},
   "source": [
    "On retrouve des informations intéressantes (et d'autres moins) dans ce résumé, notamment le $R^2$ (_R-squared_)\n",
    "et la statistique de test _F-statistic_ de significativitré globale et sa p-valeur _Prob (F-statistic)_.\n",
    "\n",
    "Dans le tableau principal, la première colonne _coef_ donne les valeurs estimées des coefficients $\\beta_j$ tandis que la colonne _std err_ correspond aux écart-types estimés des $\\hat \\beta_j$. \n",
    "\n",
    "La colonne _t_ donne la statistique de Student du test de significativité de chaque coefficient avec la p-valeur dans la colonne _P>|t|_. \n",
    "\n",
    "Les deux dernières colonnes du tableau donne un intervalle de confiance à $95 \\%$ pour chaque coefficient. On peut remarquer qu'un coefficient n'est pas significatif à un niveau $\\alpha = 0.05$ si l'intervalle de confiance contient $0$."
   ]
  },
  {
   "cell_type": "markdown",
   "metadata": {},
   "source": [
    "The standard error column corresponds to the estimated standard deviations of the OLS estimators $\\hat \\beta_j$, which we can verify manually"
   ]
  },
  {
   "cell_type": "markdown",
   "metadata": {},
   "source": [
    "_Question 7 (facultative). Retrouver ''à la main'' les écart-types estimés des estimateurs $\\hat \\beta_j$ donnés dans la colonne std err._"
   ]
  },
  {
   "cell_type": "code",
   "execution_count": 15,
   "metadata": {},
   "outputs": [
    {
     "name": "stdout",
     "output_type": "stream",
     "text": [
      "[1.16309021 0.08704027 0.20094287 0.01099098 0.05790444 0.23930427\n",
      " 0.08490283 0.12108117]\n"
     ]
    }
   ],
   "source": [
    "hat_sigma2 = np.sum(res2 ** 2) / (len(y) - X.shape[1])\n",
    "print(np.sqrt(hat_sigma2 * np.diagonal(np.linalg.inv(np.dot(X.transpose(), X)))))"
   ]
  },
  {
   "cell_type": "markdown",
   "metadata": {},
   "source": [
    "__Données atypiques__\n",
    "\n",
    "Les observations atypiques (outliers) sont les données particulièrement éloignées de la valeur attendue estimée par le modèle. \n",
    "\n",
    "On a vu que $ \\operatorname{var}(\\hat \\epsilon) = \\sigma^2 (I - \\Pi_X) $, en particulier\n",
    "\n",
    "$$ \\operatorname{var}( \\hat \\epsilon_i) = \\sigma^2 (1-\\Pi_{X,ii}).  $$ \n",
    "\n",
    "Les résidus ne sont donc pas homoscédastiques, il faut en tenir compte pour détecter les outliers (c'est l'__effet levier__). Pour cela, on définit le _résidu standardisé_\n",
    "\n",
    "$$ r_i = \\frac{\\hat \\epsilon_i}{\\hat \\sigma \\sqrt{1 - \\Pi_{X,ii}}}.  $$\n",
    "\n",
    "Un point est considéré comme atypique si le résidu standardisé est trop éloigné de $0$ (en pratique si $| r_i | > 2$). \n",
    "\n",
    "\n",
    "La __distance de Cook__ de $y_i$ mesure l'écart entre la prédiction $\\hat y$ et celle obtenue en enlevant la $i$-ème observation $(y_i,x_{1i},...,x_{pi})$. Elle permet d'évaluer l'influence de la $i$-ème observation sur la régression. \n",
    "\n",
    "Elle est donnée par\n",
    "\n",
    "$$ D_i = \\frac{1}{p+1}\\frac{\\Pi_{X,ii}}{1-\\Pi_{X,ii}} r_i^2.  $$\n",
    "\n",
    "La distance de Cook combine les informations de l'effet levier (via le terme $\\Pi_{X,ii}$) et de l'écart au modèle (via le résidu standardisé $r_i$) pour déterminer les données influentes. \n",
    "\n",
    "En pratique, un point est souvent jugé influent si sa distance de Cook est supérieure à $1$."
   ]
  },
  {
   "cell_type": "markdown",
   "metadata": {},
   "source": [
    "Les données influentes sont accessibles par la fonction __get_influence__ , puis __summary_frame__ du modèle ajusté (_fit_). "
   ]
  },
  {
   "cell_type": "code",
   "execution_count": 16,
   "metadata": {},
   "outputs": [
    {
     "data": {
      "image/png": "[encoded data removed]",
      "text/plain": [
       "<Figure size 720x360 with 2 Axes>"
      ]
     },
     "metadata": {
      "needs_background": "light"
     },
     "output_type": "display_data"
    }
   ],
   "source": [
    "infl = fit.get_influence()\n",
    "\n",
    "fig = plt.figure(1, figsize=(10, 5))\n",
    "\n",
    "plt.subplot(1, 2, 1)\n",
    "plt.title(\"Distances de Cook\")\n",
    "plt.scatter(np.arange(1, len(y)+1), infl.summary_frame()[\"cooks_d\"])\n",
    "plt.xlabel(\"individus\")\n",
    "\n",
    "plt.subplot(1, 2, 2)\n",
    "plt.title(\"Residus standardisés\")\n",
    "plt.plot(np.arange(1, len(y)+1), np.zeros(len(y)), color = \"black\")\n",
    "plt.plot(np.arange(1, len(y)+1), 2*np.ones(len(y)), \"--\", color = \"grey\")\n",
    "plt.plot(np.arange(1, len(y)+1), -2*np.ones(len(y)), \"--\", color = \"grey\")\n",
    "plt.scatter(np.arange(1, len(y)+1), infl.summary_frame()[\"standard_resid\"])\n",
    "plt.xlabel(\"individus\")\n",
    "\n",
    "plt.show()"
   ]
  },
  {
   "cell_type": "markdown",
   "metadata": {},
   "source": [
    "### Sélection de variables"
   ]
  },
  {
   "cell_type": "markdown",
   "metadata": {},
   "source": [
    "Une étape importante de la régression linéaire est de déterminer et éliminer les variables non-pertinentes. \n",
    "\n",
    "Le modèle global contient $p+1$ variables explicatives, il y a $2^{p+1}$ sous-modèles possibles, un pour chaque $m \\subseteq \\{ \\mathbf 1, x_1,...,x_p \\}$. \n",
    "\n",
    "On notera  $\\vert m \\vert$ le cardinal de $m$ et $\\hat y^{(m)}$ le vecteur des variables prédites par le modèle $m$.\n",
    "\n",
    "\n",
    "__Sélection par tests d'hypothèse__\n",
    "\n",
    "On peut tester la significativité de chaque coefficient $\\beta_j$ dans le modèle et supprimer (resp. ajouter) une à une les variables non-significatives (resp. significatives). \n",
    "\n",
    "- Méthode descendante (backward elimination): On part du modèle complet et on supprime à chaque étape la variable la moins significative. La procédure s'arrête lorsque toutes les variables sont significatives pour un seuil fixé (p-value $< \\alpha$).\n",
    "\n",
    "- Méthode ascendante (forward selection): On part du modèle vide et on intègre à chaque étape la variable la plus significative, jusqu'à ce qu'aucune nouvelle variable ne le soit. \n",
    "\n",
    "- Méthode pas-à-pas (stepwise selection): On part d'un modèle arbitraire et on évalue à chaque fois la significativité de chaque variable supprimée ou rajoutée au modèle. On s'arrête dès que le modèle ne peut être modifié sans améliorer la significativité. \n",
    "\n",
    "Attention, les variables doivent être supprimées ou ajoutées __une par une__, et la significativité de chaque variable re-testée à chaque étape."
   ]
  },
  {
   "cell_type": "markdown",
   "metadata": {},
   "source": [
    "_Question 8. Implémenter la méthode descendante de sélection de variables en supprimant une-à-une les variables non significatives au niveau $\\alpha = 0.05$._"
   ]
  },
  {
   "cell_type": "code",
   "execution_count": 56,
   "metadata": {},
   "outputs": [
    {
     "name": "stdout",
     "output_type": "stream",
     "text": [
      "                            OLS Regression Results                            \n",
      "==============================================================================\n",
      "Dep. Variable:                   lpsa   R-squared:                       0.636\n",
      "Model:                            OLS   Adj. R-squared:                  0.624\n",
      "Method:                 Least Squares   F-statistic:                     54.15\n",
      "Date:                Tue, 22 Feb 2022   Prob (F-statistic):           2.44e-20\n",
      "Time:                        15:31:30   Log-Likelihood:                -102.05\n",
      "No. Observations:                  97   AIC:                             212.1\n",
      "Df Residuals:                      93   BIC:                             222.4\n",
      "Df Model:                           3                                         \n",
      "Covariance Type:            nonrobust                                         \n",
      "==============================================================================\n",
      "                 coef    std err          t      P>|t|      [0.025      0.975]\n",
      "------------------------------------------------------------------------------\n",
      "const         -0.7772      0.623     -1.247      0.215      -2.014       0.460\n",
      "lcavol         0.5259      0.075      7.024      0.000       0.377       0.675\n",
      "lweight        0.6618      0.176      3.768      0.000       0.313       1.011\n",
      "svi            0.6657      0.207      3.214      0.002       0.254       1.077\n",
      "==============================================================================\n",
      "Omnibus:                        0.099   Durbin-Watson:                   1.501\n",
      "Prob(Omnibus):                  0.952   Jarque-Bera (JB):                0.215\n",
      "Skew:                          -0.069   Prob(JB):                        0.898\n",
      "Kurtosis:                       2.815   Cond. No.                         36.5\n",
      "==============================================================================\n",
      "\n",
      "Notes:\n",
      "[1] Standard Errors assume that the covariance matrix of the errors is correctly specified.\n"
     ]
    }
   ],
   "source": [
    "alpha = 0.05\n",
    "X1 = X\n",
    "fit1 = fit\n",
    "while np.max(fit1.pvalues[1:]) > alpha:\n",
    "    k = 1 + np.argmax(fit1.pvalues[1:])\n",
    "    X1 = X1.drop(columns = X1.columns[k], axis = 1)\n",
    "    model1 = sm.OLS(y, X1)\n",
    "    fit1 = model1.fit()\n",
    "print(fit1.summary())"
   ]
  },
  {
   "cell_type": "markdown",
   "metadata": {},
   "source": [
    "__Indicateurs de la qualité d'un modèle__ \n",
    "\n",
    "On rappelle que le coefficient de détermination d'un modèle $m$, qui évalue la part de la variance de $y$ expliquée par le modèle, est donné par\n",
    "\n",
    "$$R^2(m) = \\frac{\\Vert \\hat y^{(m)} - \\overline y  \\Vert^2}{\\Vert y - \\overline y  \\Vert^2}, $$ \n",
    "    \n",
    "Le modèle avec le plus grand $R^2$ est toujours le modèle complet. Le $R^2$ seul ne permet donc pas de détecter les variables non-influentes, il n'est pas adapté à la sélection de variable. \n",
    "\n",
    "Il existe des critères ajustés qui permettent de quantifier la qualité d'un modèle en tenant compte de l'ajustement et de sa simplicité. Par exemple:\n",
    "\n",
    "- Le $R^2$ ajusté \n",
    "\n",
    "$$ R^2_a(m)\t= \\frac{(n-1) R^2(m) - \\vert m \\vert + 1}{n-\\vert m \\vert}. $$\n",
    "\n",
    "est une modification du $R^2$ (justifiée théoriquement) qui privilégie les modèles contenant peu de variables. On utilise aussi souvent des critères dits pénalisés, qu'il faut minimiser, notamment:\n",
    "\n",
    "- L'Akaike Information Criterion\n",
    "\n",
    "$$ \\operatorname{AIC}(m) =  \\Vert y  - \\hat y^{(m)} \\Vert^2 + 2 \\vert m \\vert \\hat \\sigma^2.  $$\n",
    "\n",
    "- Le Bayesian Information Criterion\n",
    "\n",
    "$$ \\operatorname{BIC}(m) = \\Vert y  - \\hat y^{(m)} \\Vert^2 + \\ln(n) \\vert m \\vert  \\hat \\sigma^2  $$\n",
    "\n",
    "Le BIC privilégie les modèles parcimonieux (peu de variables) par rapport à l'AIC du fait de sa pénalité plus forte sur la dimension (avec un facteur $\\ln(n)$ pour le BIC contre un facteur $2$ pour l'AIC). \n",
    "\n",
    "\n",
    "\n",
    "__Validation croisée__\n",
    "\n",
    "Le principe de la validation croisée est d'estimer les paramètres à partir d'un sous-échantillon des données et d'évaluer leurs performances de prédiction sur les données mises de côté. \n",
    "\n",
    "La version la plus simple est le critère PRESS (prediction error sum of square), pour lequel une seule observation est laissée de côté. Soit $\\hat y^{(i)}_{m,i}$ la prédiction de $y_i$ estimée dans le modèle $m$ à partir des données sans $y_i$, \n",
    "\n",
    "$$ \\operatorname{PRESS}(m) = \\sum_{i=1}^n ( \\hat y^{(i)}_{m,i} - y_i)^2. $$\n",
    "\n",
    "On retient le modèle avec le PRESS le plus faible. Ce critère se calcule relativement simplement en pratique par\n",
    "\n",
    "$$ \\operatorname{PRESS}(m) = \\sum_{i=1}^n \\frac{\\hat \\epsilon_{m,i}^2}{(1 - \\Pi_{m,ii})^2}. $$"
   ]
  },
  {
   "cell_type": "markdown",
   "metadata": {},
   "source": [
    "_Question 9. Implémenter un algorithme pas-à-pas de sélection de variables basé sur le critère AIC._"
   ]
  },
  {
   "cell_type": "code",
   "execution_count": null,
   "metadata": {},
   "outputs": [],
   "source": []
  },
  {
   "cell_type": "markdown",
   "metadata": {},
   "source": [
    "### Méthodes robustes d'estimation"
   ]
  },
  {
   "cell_type": "markdown",
   "metadata": {},
   "source": [
    "__Régression sur composantes principales__\n",
    "\n",
    "Dans cette partie, on travaille sur les variables _centrées réduites_ \n",
    "\n",
    "$$ z = \\frac{y - \\overline{y}}{\\sigma_y} \\ \\text{ et } \\ w_j = \\frac{x_j - \\overline x_j}{\\sigma_{x_j}} \\ , \\ j = 1,...,p. $$ \n",
    "\n",
    "On considère la matrice normalisée\n",
    "\n",
    "$$ W = \\left( \\begin{array}{ccc} w_{11} & \\dots & w_{p1}  \\\\ \\vdots & \\ddots & \\vdots \\\\  w_{1n} & \\dots & w_{pn}   \\end{array} \\right)   $$\n",
    "\n",
    "et le modèle de régression linéaire sans constante\n",
    "\n",
    "$$ z = W \\gamma + \\eta.  $$\n",
    "\n",
    "Cette normalisation permet d'avoir des variables de même ordres de grandeurs (car réduites) et de s'affranchir de la constante (car variables centrées). \n",
    "\n",
    "On peut toujours se ramener aux variables initiales en faisant les transformations inverses, le modèle normalisé est équivalent en terme d'ajustement.\n",
    "\n",
    "L'analyse en composante principale a pour but de construire une base orthogonale de $\\operatorname{Im}(W)$ ordonnée par la quantité d'information (ou variance). L'idée intuitive est que des variables explicatives plus dispersées permettront mieux en général de calibrer la régression. \n",
    "\n",
    "Les _composantes principales_ $c_1,...,c_p$ sont les $p$ premiers vecteurs propres de $W W^\\top $ ordonnés par ordre décroissant des valeurs propres.\n",
    " \n",
    "Si $X$ est de plein rang ($X^\\top X$ inversible), alors\n",
    "\n",
    "- les vecteurs $\\mathbf 1, c_1,...,c_p$ forment une base orthogonale de $\\operatorname{Im}(X)$. \n",
    "\n",
    "- Pour tout $k=1,...,p$, la variance de $(c_1,...,c_k)$ est maximale parmi les sous-espaces de dimension $k$. \n",
    "\n",
    "- L'estimateur des MCO $(\\hat \\gamma_1,...,\\hat \\gamma_k)$ associé est de variance minimale."
   ]
  },
  {
   "cell_type": "markdown",
   "metadata": {},
   "source": [
    "Les boîtes à moustaches des composantes principales de $X$, obtenues en utilisant la fonction __PCA__ de la librairie __sklearn.decomposition__, montrent que la décroissance de la variance."
   ]
  },
  {
   "cell_type": "code",
   "execution_count": 141,
   "metadata": {},
   "outputs": [
    {
     "data": {
      "image/png": "[encoded data removed]",
      "text/plain": [
       "<Figure size 432x288 with 1 Axes>"
      ]
     },
     "metadata": {
      "needs_background": "light"
     },
     "output_type": "display_data"
    }
   ],
   "source": [
    "from sklearn.decomposition import PCA\n",
    "from sklearn.preprocessing import StandardScaler\n",
    "scaler = StandardScaler()\n",
    "\n",
    "W = pd.DataFrame(scaler.fit_transform(X), index = X.index, columns = X.columns)\n",
    "W = W.drop(columns = \"const\", axis = 1)\n",
    "\n",
    "k = 6\n",
    "pca = PCA(n_components = 7, svd_solver = 'full')\n",
    "pca.fit(W)\n",
    "\n",
    "C = pd.DataFrame(np.dot(W, pca.components_.transpose()))\n",
    "C.boxplot(grid = False)\n",
    "plt.xlabel(\"Composantes principales\")\n",
    "plt.xticks(np.arange(7) + 1, np.arange(7) + 1)\n",
    "plt.title(\"\")\n",
    "plt.show()"
   ]
  },
  {
   "cell_type": "markdown",
   "metadata": {},
   "source": [
    "_Question 10. Représenter les $R^2$ des modèles de régression sur les $k$ premières composantes principales pour $k$ allant de $1$ à $7$._"
   ]
  },
  {
   "cell_type": "code",
   "execution_count": 142,
   "metadata": {},
   "outputs": [
    {
     "data": {
      "image/png": "[encoded data removed]",
      "text/plain": [
       "<Figure size 432x288 with 1 Axes>"
      ]
     },
     "metadata": {
      "needs_background": "light"
     },
     "output_type": "display_data"
    }
   ],
   "source": [
    "z = (y - np.mean(y))/np.std(y)\n",
    "R2 = np.zeros(7)\n",
    "for k in np.arange(1, 8):\n",
    "    model = sm.OLS(z, W[W.columns[0:k]])\n",
    "    fit = model.fit()\n",
    "    R2[k-1] = fit.rsquared\n",
    "    \n",
    "plt.plot(np.arange(1, 8), R2)\n",
    "plt.xlabel(\"Nombre de composantes principales\")\n",
    "plt.ylabel(\"Part de variance expliquée (R2)\")\n",
    "plt.show()"
   ]
  },
  {
   "cell_type": "markdown",
   "metadata": {},
   "source": [
    "__Régression ridge__\n",
    "\n",
    "Des corrélations entre les variables explicatives entraînent\n",
    "\n",
    "- des valeurs propres de $X^\\top X$ (ou $W^\\top W$) proches de zéro\n",
    "\n",
    "- une variance de $\\hat \\beta$ (ou $\\hat \\gamma$) qui explose du fait que $ \\operatorname{var}(\\hat \\beta) =  \\sigma^2 (X^\\top X)^{-1}$\n",
    "\n",
    "L'idée de la régression Ridge est de pénaliser les grandes valeurs (en norme) de $\\hat \\beta$. L'estimateur Ridge minimise le critère pénalisé\n",
    "\n",
    "$$ \\hat \\gamma_\\kappa^{ridge} = \\arg \\min_{c \\in \\mathbb R^{p}} \\big\\{ \\Vert z - W c \\Vert^2 + \\kappa \\Vert c \\Vert^2  \\big\\}$$\n",
    "\n",
    "où $\\kappa > 0 $ est un paramètre à calibrer. Sa forme explicite est \n",
    "\n",
    "$$ \\hat \\beta_\\kappa^{ridge}  = (W^\\top W + \\kappa I)^{-1} W^\\top z.  $$\n",
    "\n",
    "Le calibrage du paramètre $\\kappa$ permet de trouver un compromis entre biais et variance puisque\n",
    "\n",
    "- si $\\kappa \\to 0$:\n",
    "\n",
    " $$ \\text{biais} \\to - \\gamma \\ \\ , \\ \\ \\text{var} \\to 0  $$\n",
    "\n",
    "- si $\\kappa \\to +\\infty$:\n",
    "\n",
    " $$ \\text{biais} \\to 0 \\ \\ , \\ \\ \\text{var} \\to \\sigma^2 (W^\\top W)^{-1} $$"
   ]
  },
  {
   "cell_type": "markdown",
   "metadata": {},
   "source": [
    "_Question 11. Implémenter la méthode Ridge dans le modèle de régression multiple sur les données (normalisées ou non) pour des valeurs de $\\kappa$ allant de $0$ à $10$. Représenter graphiquement l'évolution des coefficients estimés, puis de l'erreur quadratique moyenne._"
   ]
  },
  {
   "cell_type": "code",
   "execution_count": 177,
   "metadata": {},
   "outputs": [],
   "source": [
    "from sklearn.linear_model import Ridge\n",
    "\n",
    "Kappa = np.linspace(0, 10, 100)\n",
    "ridge = linear_model.Ridge()\n",
    "coefs = []\n",
    "errors = []\n",
    "for kappa in Kappa:\n",
    "    ridge.set_params(alpha = kappa)\n",
    "    ridge.fit(X, y)\n",
    "    coefs.append(ridge.coef_)\n",
    "    errors.append(np.mean((ridge.predict(X) - y) ** 2))"
   ]
  },
  {
   "cell_type": "code",
   "execution_count": 178,
   "metadata": {},
   "outputs": [
    {
     "data": {
      "image/png": "[encoded data removed]",
      "text/plain": [
       "<Figure size 720x360 with 2 Axes>"
      ]
     },
     "metadata": {
      "needs_background": "light"
     },
     "output_type": "display_data"
    }
   ],
   "source": [
    "fig = plt.figure(1, figsize=(10, 5))\n",
    "\n",
    "plt.subplot(1, 2, 1)\n",
    "ax = plt.gca()\n",
    "ax.plot(Kappa, coefs)\n",
    "plt.xlabel('kappa')\n",
    "plt.ylabel(\"\")\n",
    "plt.plot(Kappa, np.zeros(100), color = \"black\")\n",
    "plt.title(\"Coefficients de l'estimateur Ridge\")\n",
    "ax.legend(labels = W.columns)\n",
    "\n",
    "plt.subplot(1, 2, 2)\n",
    "ax = plt.gca()\n",
    "ax.plot(Kappa, errors)\n",
    "plt.xlabel('kappa')\n",
    "plt.title('MSE')\n",
    "plt.show()\n",
    "\n",
    "plt.show()"
   ]
  },
  {
   "cell_type": "markdown",
   "metadata": {},
   "source": [
    "_Question 12. Calibrer le paramètre $\\kappa$ par validation croisée, en utilisant la fonction __cross_val_score__ de la librairie __sklearn.model_selection__ avec l'argument __scoring = \"neg_mean_squared_error\"__ pour renvoyer l'opposé de l'erreur quadratique, qu'il faut donc maximiser._"
   ]
  },
  {
   "cell_type": "code",
   "execution_count": 179,
   "metadata": {},
   "outputs": [],
   "source": [
    "from sklearn.model_selection import cross_val_score\n",
    "PRESS = np.zeros(len(Kappa))\n",
    "for i in range(len(Kappa)):\n",
    "    ridge = linear_model.Ridge(alpha = Kappa[i])\n",
    "    press = - cross_val_score(ridge, X, y, scoring = \"neg_mean_squared_error\", cv = len(y))\n",
    "    PRESS[i] = np.mean(press)"
   ]
  },
  {
   "cell_type": "code",
   "execution_count": 180,
   "metadata": {},
   "outputs": [
    {
     "data": {
      "image/png": "[encoded data removed]",
      "text/plain": [
       "<Figure size 432x288 with 1 Axes>"
      ]
     },
     "metadata": {
      "needs_background": "light"
     },
     "output_type": "display_data"
    }
   ],
   "source": [
    "ax = plt.gca()\n",
    "ax.plot(Kappa, PRESS)\n",
    "plt.xlabel('kappa')\n",
    "plt.ylabel('PRESS')\n",
    "kappa_min = Kappa[np.argmin(PRESS)]\n",
    "plt.axvline(x = kappa_min)\n",
    "plt.axhline(y = np.min(PRESS), linestyle = 'dashed')\n",
    "plt.xticks([0, kappa_min, 3, 6, 9])\n",
    "plt.show()"
   ]
  },
  {
   "cell_type": "markdown",
   "metadata": {},
   "source": [
    "__Régression lasso__\n",
    "\n",
    "La régression lasso (least absolute shrinkage and selection operator) est construit en minimisant un critère pénalisé avec la norme $\\ell^1$: \n",
    "\n",
    "$$ \\hat \\gamma_\\kappa^{lasso} = \\arg \\min_{c \\in \\mathbb R^{p}} \\Vert z - W c \\Vert^2 + \\kappa \\sum_{j=1}^p \\vert c_j \\vert \\ \\big( \\! \\longleftarrow \\text{ norme } \\ell^1 \\big) $$\n",
    "\n",
    "avec, comme pour le Ridge, $\\kappa >0$ un paramètre à calibrer. L'avantage du lasso par rapport au Ridge est qu'il produit un estimateur sparse (ayant certains coefficients nuls), ce qui s'apparente à de la sélection de variables.\n",
    "\n",
    "Il n'a pas de forme explicite, mais le problème d'optimisation convexe pour le déterminer est en général peu coûteux en temps de calcul."
   ]
  },
  {
   "cell_type": "markdown",
   "metadata": {},
   "source": [
    "_Question 13. Implémenter la méthode lasso dans le modèle de régression multiple sur les données normalisées allant de $0.01$ à $0.8$. Représenter graphiquement l'évolution des coefficients estimés, puis de l'erreur quadratique moyenne._"
   ]
  },
  {
   "cell_type": "code",
   "execution_count": 186,
   "metadata": {},
   "outputs": [],
   "source": [
    "from sklearn.linear_model import Lasso\n",
    "Kappa = np.linspace(0.01, 0.8, 100)\n",
    "lasso = linear_model.Lasso()\n",
    "coefs = []\n",
    "errors = []\n",
    "for kappa in Kappa:\n",
    "    lasso.set_params(alpha = kappa)\n",
    "    lasso.fit(W, z)\n",
    "    coefs.append(lasso.coef_)\n",
    "    errors.append(np.mean((lasso.predict(W) - z) ** 2))"
   ]
  },
  {
   "cell_type": "code",
   "execution_count": 187,
   "metadata": {},
   "outputs": [
    {
     "data": {
      "image/png": "[encoded data removed]",
      "text/plain": [
       "<Figure size 720x360 with 2 Axes>"
      ]
     },
     "metadata": {
      "needs_background": "light"
     },
     "output_type": "display_data"
    }
   ],
   "source": [
    "fig = plt.figure(1, figsize=(10, 5))\n",
    "\n",
    "plt.subplot(1, 2, 1)\n",
    "ax = plt.gca()\n",
    "ax.plot(Kappa, coefs)\n",
    "plt.xlabel('kappa')\n",
    "plt.ylabel(\"\")\n",
    "plt.plot(Kappa, np.zeros(100), color = \"black\")\n",
    "plt.title(\"Coefficients de l'estimateur lasso\")\n",
    "ax.legend(labels = W.columns)\n",
    "\n",
    "plt.subplot(1, 2, 2)\n",
    "ax = plt.gca()\n",
    "ax.plot(Kappa, errors)\n",
    "plt.xlabel('kappa')\n",
    "plt.title('MSE')\n",
    "plt.show()\n",
    "\n",
    "plt.show()"
   ]
  },
  {
   "cell_type": "markdown",
   "metadata": {},
   "source": [
    "_Question 14. Calculer les valeurs des coefficients estimés pour $\\kappa = 0.2$ pour vérifier la propriété de sparsité._"
   ]
  },
  {
   "cell_type": "code",
   "execution_count": 189,
   "metadata": {},
   "outputs": [
    {
     "name": "stdout",
     "output_type": "stream",
     "text": [
      "lcavol = 0.4501153749637313\n",
      "lweight = 0.09001145875611957\n",
      "age = 0.0\n",
      "lbph = 0.0\n",
      "svi = 0.10968938043003937\n",
      "lcp = 0.0\n",
      "gleason = 0.0\n"
     ]
    }
   ],
   "source": [
    "Lassoreg = Lasso(alpha = 0.2)\n",
    "Lassoreg.fit(W, z)\n",
    "Coefs = list(W)\n",
    "Vals = Lassoreg.coef_\n",
    "for i in range(len(Coefs)):\n",
    "    print(Coefs[i], \"=\", str(Vals[i]))"
   ]
  },
  {
   "cell_type": "markdown",
   "metadata": {},
   "source": [
    "_Question 15. Calibrer le $\\kappa$ optimal par validation croisée. On pourra se restreidre à l'intervalle $[0.015, 0.03]$._"
   ]
  },
  {
   "cell_type": "code",
   "execution_count": 190,
   "metadata": {},
   "outputs": [],
   "source": [
    "from sklearn.model_selection import cross_val_score\n",
    "Kappa = np.linspace(0.015, 0.030, 100)\n",
    "PRESS = np.zeros(len(Kappa))\n",
    "for i in range(len(Kappa)):\n",
    "    lasso.set_params(alpha = Kappa[i])\n",
    "    las = lasso.fit(W, z)\n",
    "    press = - cross_val_score(las, W, z, scoring = \"neg_mean_squared_error\", cv = len(z))\n",
    "    PRESS[i] = np.mean(press)"
   ]
  },
  {
   "cell_type": "code",
   "execution_count": 191,
   "metadata": {},
   "outputs": [
    {
     "data": {
      "image/png": "[encoded data removed]",
      "text/plain": [
       "<Figure size 432x288 with 1 Axes>"
      ]
     },
     "metadata": {
      "needs_background": "light"
     },
     "output_type": "display_data"
    }
   ],
   "source": [
    "ax = plt.gca()\n",
    "ax.plot(Kappa, PRESS)\n",
    "plt.xlabel('kappa')\n",
    "plt.ylabel('PRESS')\n",
    "kappa_min = Kappa[np.argmin(PRESS)]\n",
    "plt.axvline(x = kappa_min)\n",
    "plt.axhline(y = np.min(PRESS), linestyle = 'dashed')\n",
    "plt.xticks([0.016, kappa_min, 0.022, 0.025, 0.028])\n",
    "plt.show()"
   ]
  }
 ],
 "metadata": {
  "kernelspec": {
   "display_name": "Python 3 (ipykernel)",
   "language": "python",
   "name": "python3"
  },
  "language_info": {
   "codemirror_mode": {
    "name": "ipython",
    "version": 3
   },
   "file_extension": ".py",
   "mimetype": "text/x-python",
   "name": "python",
   "nbconvert_exporter": "python",
   "pygments_lexer": "ipython3",
   "version": "3.10.12"
  }
 },
 "nbformat": 4,
 "nbformat_minor": 2
}
