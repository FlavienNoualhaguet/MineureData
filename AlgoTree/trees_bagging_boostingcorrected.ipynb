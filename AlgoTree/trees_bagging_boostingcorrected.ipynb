{
 "cells": [
  {
   "cell_type": "markdown",
   "metadata": {},
   "source": [
    "# Trees, Bagging and Boosting\n",
    "\n",
    "This lab illustrates one learning algorithm used to build decision trees and two learning meta-algorithms, the _bagging_ and the _boosting_.\n",
    "\n",
    "<font color='red'>For pedagogical reasons, we code these models _almost_ from scratch, however these models are already implemented in `sklearn`. Outside of this lab, one should use the `sklearn` implementations.</font>\n",
    "\n",
    "In this lab, we work on the Boston housing data. Using this data set we want to build a model explaining the median value of owner-occupied homes. When facing a real data set, do not hesitate to do some plots first in order to get a better insight of the data.\n",
    "\n",
    "# Decision Trees\n",
    "A decision tree is a model that splits the input space recursively into regions $R_1,\\ldots,R_M$. These regions are a partition of the input space. Each region $R_m$ is associated to a predicted value $c_k$. For all the input $x\\in R_m$, the tree model $h$ predicts $c_m$. In the regression context, we have $h(x)=\\sum_{m=1}^M c_m {\\mathbb{1}}_{R_m}(x)$.\n",
    "\n",
    "Usually, each node of the tree model is associated to one condition on one explanatory variable. Considering a new example $x$, if it satisfies the condition at the node then it goes to the left branch else it goes to the right branch. This process is repeated till a leaf is reached. The value predicted is the one associated to this leaf. The Figure 1 shows a tree model and the associated partition.\n",
    "\n",
    "<img src=\"figure.png\" width=\"700\">\n",
    "\n",
    "\n",
    "Building a tree model minimizing the error on the training set $S$ is a difficult task. Hence, a greedy recursive algorithm is used to build the tree model in a top-down fashion. First, the condition $\\mathrm{condition}$ associated to the root node is selected. Secondly, the left (resp. right) subtree is built by applying this algorithm on the examples of $S$ satisfying $\\mathrm{condition}$ (resp. $\\neg \\mathrm{condition}$). This algorithm stops when there are not enough examples to perform a split. This algorithm is described below:\n",
    "\n",
    "<img src=\"algo.png\" width=\"700\">\n",
    "\n",
    "The function ``chooseSplit`` chooses the \"best\" split $x_j\\leq t$ where $x_j$ is an explanatory variable and $t$ is the threshold of the condition. On the left leaf, we predict $c_1$ and on the right leaf we predict $c_2$. Here, the \"best\" is the one minimizing the following error on the training set:\n",
    "\\begin{equation}\n",
    "error(j,t)= \\underset{c_1}{min}~\\underset{\\substack{(x,y)\\in \\mathrm{data} \\\\ x_j\\leq t}}{\\sum} (y-c_1)^2 + \\underset{c_2}{min}~\\underset{\\substack{(x,y)\\in \\mathrm{data} \\\\ x_j > t}}{\\sum} (y-c_2)^2.\n",
    "\\end{equation}\n",
    "\n",
    "In order to control the size of the tree, ``chooseSplit`` only consider the splits that result in at least `nmin` examples on both side of the split. For this reason, sometimes, no split can be performed.\n",
    "\n",
    "\n",
    "<font color='red'>**Q1:**</font> When we select the \"best\" split, why is the number of couples $(j,t)$ to compare is finite?\n",
    "\n",
    "<font color='red'>**Q2:**</font> Assuming the couple $(j,t)$ is selected, what is the value of $c_1$ and $c_2$?\n",
    "\n",
    "<font color='red'>**Q3:**</font> The function `chooseSplit` returns the best `(j,t)` if a split is possible, `None` otherwise. Using this function, implement the function `buildTree(X, y, nmin)` described by the Algorithm above. `nmin` is used to control the growth of the tree. It is minimum number of examples in each leaf. \n",
    "\n",
    "<font color='green'>**Hints for Q3:**</font> As a reminder, considering a numpy array `a`, if `condition` is boolean numpy array with a shape similar to `a` then `a[condition]` is a numpy array containing the elements of `a` for which `condition` is true. In addition, one can use `np.logical_not`, considering a numpy boolean array `a`, `np.logical_not(a)` applies the logical operator \"not\" to each element of `a`."
   ]
  },
  {
   "cell_type": "code",
   "execution_count": 1,
   "metadata": {},
   "outputs": [],
   "source": [
    "import pandas as pd\n",
    "import numpy as np\n",
    "import sklearn\n",
    "import sklearn.datasets\n",
    "import sklearn.model_selection\n",
    "\n",
    "def rmse(ypred, y):\n",
    "    return np.sqrt(np.mean((ypred - y) ** 2))\n",
    "\n",
    "def chooseSplit(X, y, nmin):\n",
    "    def sse(y):\n",
    "        e = y - np.mean(y)\n",
    "        return np.sum(e * e)\n",
    "    def error(j, t):\n",
    "        sel = X[:, j] <= t\n",
    "        nsel = np.logical_not(sel)\n",
    "        if np.sum(nsel) >= nmin and np.sum(sel) >= nmin:\n",
    "            s = sse(y[sel]) + sse(y[nsel])\n",
    "        else:\n",
    "            s = float('inf')\n",
    "        return (s, (j, t))\n",
    "    totest = [(j, t) for j in range(X.shape[1]) for t in X[:, j]]\n",
    "    s, (j, t) = min([error(*x) for x in totest])\n",
    "    if s == float('inf'):\n",
    "        return None\n",
    "    else:\n",
    "        return (j, t)\n",
    "    \n",
    "class Leaf:\n",
    "    '''Class storing the Leaf'''\n",
    "    def __init__(self,meany):\n",
    "        self.meany = meany\n",
    "    def __repr__(self):\n",
    "        return \"Leaf({:.2f})\".format(self.meany)\n",
    "    def predict(self, X):\n",
    "        if len(X.shape) == 1:\n",
    "            return self.meany\n",
    "        else:\n",
    "            return np.repeat(self.meany,X.shape[0])\n",
    "    def count_leaves(self):\n",
    "        return 1\n",
    "    \n",
    "class Node:\n",
    "    '''Class storing the Node'''\n",
    "    def __init__(self, split, left, right):\n",
    "        (j, t) = split\n",
    "        self.j = j\n",
    "        self.t = t\n",
    "        self.left = left\n",
    "        self.right = right\n",
    "    def __repr__(self):\n",
    "        return \"Node(j={0.j},t={0.t:.2f},left={0.left},right={0.right})\".format(self)\n",
    "    def predict(self,X):\n",
    "        def predictone(node, Xi):\n",
    "            if isinstance(node, Leaf):\n",
    "                return node.predict(Xi)\n",
    "            elif Xi[node.j] <= node.t:\n",
    "                return predictone(node.left, Xi)\n",
    "            else:\n",
    "                return predictone(node.right, Xi)\n",
    "        return np.array([predictone(self,Xi)  for Xi in X])\n",
    "    def count_leaves(self):\n",
    "        return self.left.count_leaves()+self.right.count_leaves()\n",
    "\n",
    "def load_data():\n",
    "    df = pd.read_csv(\"BostonHousing.csv\")\n",
    "    y = df[\"medv\"].to_numpy()\n",
    "    X = df.drop(columns=[\"medv\"]).to_numpy()\n",
    "    return X,y\n",
    "    \n",
    "def main(nmin=1):\n",
    "    # returns (X, y) two numpy arrays corresponding to the Boston Housing median value prediction problem\n",
    "    X, y = load_data()#sklearn.datasets.load_boston(return_X_y=True)\n",
    "    Xts, Xvs, yts, yvs = sklearn.model_selection.train_test_split(X, y, random_state=42,train_size=350)\n",
    "    m = buildTree(Xts, yts, nmin)    \n",
    "    print(m)\n",
    "    def rmse(ypred, y):\n",
    "        return np.sqrt(np.mean((ypred - y)**2))\n",
    "    print(\"nmin:\", nmin)\n",
    "    print(\"number of leaves:\",m.count_leaves())\n",
    "    print(\"RMSE ON TRAINING SET:\", rmse(m.predict(Xts), yts))\n",
    "    print(\"RMSE ON VALIDATION SET:\", rmse(m.predict(Xvs), yvs))"
   ]
  },
  {
   "cell_type": "markdown",
   "metadata": {
    "tags": [
     "corrected"
    ]
   },
   "source": [
    "<font color='blue'>**A1:**</font> Let us assume we have $p$ variables and $n$ examples, we have $p$ possible values for $j$ and $n-1$ values for $t$. To understand that we only have $n-1$ values for $t$, let us imagine that we sort the values $x_{(1),j}<\\ldots<x_{(n),j}$; every $t\\in [x_{(i),j};x_{(i+1),j}[$ leads to the same partition of the examples, with the examples $(1)<\\ldots<(i)$ on the left side and the examples $(i+1)<\\ldots<(n)$ on the right side. Thus we obtain $(n-1)p$ possible split.\n",
    "\n",
    "<font color='blue'>**A2:**</font> $c_1=\\mathrm{mean}(y\\in \\mathrm{left\\_node})$ and $c_2=\\mathrm{mean}(y\\in \\mathrm{right\\_node})$ where  $\\mathrm{left\\_node}=\\lbrace y\\vert (x,y) \\in \\mathrm{data}~/~x_j\\leq t \\rbrace$  and $\\mathrm{right\\_node}=\\lbrace y\\vert (x,y) \\in \\mathrm{data}~/~x_j > t \\rbrace$"
   ]
  },
  {
   "cell_type": "code",
   "execution_count": 3,
   "metadata": {
    "tags": [
     "corrected"
    ]
   },
   "outputs": [
    {
     "name": "stdout",
     "output_type": "stream",
     "text": [
      "Node(j=5,t=6.94,left=Node(j=12,t=14.37,left=Node(j=7,t=1.36,left=Node(j=0,t=8.27,left=Node(j=0,t=4.90,left=Leaf(50.00),right=Node(j=0,t=5.67,left=Leaf(50.00),right=Leaf(50.00))),right=Leaf(27.90)),right=Node(j=5,t=6.54,left=Node(j=5,t=6.03,left=Node(j=5,t=6.02,left=Node(j=0,t=13.52,left=Node(j=1,t=21.00,left=Node(j=2,t=2.46,left=Leaf(26.40),right=Node(j=4,t=0.72,left=Node(j=10,t=17.40,left=Node(j=0,t=2.24,left=Node(j=4,t=0.46,left=Node(j=5,t=5.96,left=Node(j=0,t=0.07,left=Leaf(19.30),right=Leaf(19.70)),right=Node(j=0,t=0.05,left=Leaf(23.40),right=Leaf(21.70))),right=Node(j=11,t=378.35,left=Node(j=0,t=0.54,left=Leaf(24.30),right=Leaf(23.80)),right=Node(j=0,t=0.05,left=Leaf(23.30),right=Node(j=1,t=0.00,left=Node(j=0,t=0.08,left=Leaf(22.60),right=Leaf(22.70)),right=Node(j=0,t=0.09,left=Leaf(22.90),right=Leaf(22.80)))))),right=Leaf(19.10)),right=Node(j=10,t=18.40,left=Node(j=5,t=5.71,left=Node(j=0,t=0.25,left=Leaf(16.20),right=Leaf(16.10)),right=Node(j=0,t=0.14,left=Leaf(19.30),right=Leaf(20.30))),right=Node(j=2,t=5.19,left=Node(j=2,t=4.39,left=Leaf(17.50),right=Node(j=5,t=5.97,left=Node(j=0,t=0.03,left=Leaf(18.50),right=Leaf(18.70)),right=Leaf(19.00))),right=Node(j=6,t=42.60,left=Node(j=5,t=5.88,left=Node(j=6,t=40.30,left=Node(j=0,t=0.06,left=Leaf(22.00),right=Leaf(21.80)),right=Node(j=0,t=0.30,left=Node(j=0,t=0.08,left=Leaf(21.00),right=Leaf(21.10)),right=Leaf(20.60))),right=Node(j=0,t=0.16,left=Node(j=0,t=0.14,left=Leaf(22.60),right=Leaf(21.70)),right=Node(j=0,t=0.18,left=Leaf(24.70),right=Leaf(24.50)))),right=Node(j=5,t=4.96,left=Node(j=0,t=3.70,left=Leaf(21.90),right=Leaf(23.10)),right=Node(j=12,t=14.27,left=Node(j=0,t=0.06,left=Leaf(18.90),right=Node(j=5,t=6.00,left=Node(j=6,t=87.60,left=Node(j=0,t=3.16,left=Node(j=7,t=3.38,left=Node(j=0,t=0.07,left=Leaf(20.30),right=Node(j=0,t=0.11,left=Node(j=0,t=0.10,left=Leaf(20.00),right=Leaf(20.10)),right=Leaf(19.90))),right=Node(j=0,t=0.09,left=Leaf(20.70),right=Leaf(20.40))),right=Node(j=0,t=4.84,left=Leaf(20.60),right=Leaf(20.80))),right=Leaf(19.60)),right=Leaf(21.20))),right=Leaf(22.00))))))),right=Node(j=0,t=1.13,left=Leaf(15.30),right=Leaf(19.60)))),right=Node(j=2,t=5.13,left=Node(j=5,t=5.88,left=Node(j=0,t=0.04,left=Leaf(18.20),right=Node(j=0,t=0.07,left=Leaf(18.60),right=Leaf(18.70))),right=Leaf(19.60)),right=Leaf(17.10))),right=Leaf(15.00)),right=Leaf(11.90)),right=Node(j=10,t=20.20,left=Node(j=9,t=403.00,left=Node(j=9,t=193.00,left=Leaf(29.60),right=Node(j=12,t=11.10,left=Node(j=11,t=385.81,left=Node(j=7,t=7.83,left=Node(j=11,t=377.07,left=Node(j=3,t=0.00,left=Node(j=4,t=0.60,left=Node(j=0,t=2.30,left=Node(j=5,t=6.39,left=Node(j=5,t=6.07,left=Leaf(24.30),right=Node(j=5,t=6.09,left=Leaf(24.00),right=Node(j=0,t=0.13,left=Leaf(23.70),right=Leaf(23.80)))),right=Node(j=0,t=0.16,left=Leaf(24.50),right=Leaf(24.80))),right=Leaf(25.00)),right=Leaf(23.30)),right=Leaf(27.00)),right=Node(j=0,t=0.09,left=Leaf(26.40),right=Leaf(28.10))),right=Leaf(20.50)),right=Node(j=6,t=21.10,left=Node(j=4,t=0.44,left=Node(j=0,t=0.04,left=Leaf(23.50),right=Node(j=0,t=0.08,left=Leaf(24.10),right=Leaf(23.90))),right=Node(j=0,t=0.05,left=Leaf(25.00),right=Leaf(24.70))),right=Node(j=10,t=18.50,left=Node(j=9,t=243.00,left=Node(j=1,t=0.00,left=Node(j=0,t=0.03,left=Leaf(21.60),right=Leaf(21.20)),right=Leaf(20.50)),right=Node(j=11,t=393.55,left=Node(j=0,t=0.05,left=Node(j=0,t=0.04,left=Leaf(22.00),right=Leaf(21.90)),right=Leaf(21.60)),right=Node(j=12,t=7.43,left=Node(j=2,t=4.05,left=Node(j=0,t=0.03,left=Leaf(24.10),right=Leaf(24.60)),right=Node(j=0,t=0.04,left=Leaf(23.20),right=Leaf(22.10))),right=Node(j=2,t=5.32,left=Node(j=0,t=0.01,left=Leaf(22.00),right=Node(j=0,t=0.05,left=Leaf(22.30),right=Leaf(22.20))),right=Node(j=0,t=0.04,left=Leaf(22.90),right=Node(j=0,t=0.11,left=Leaf(23.00),right=Leaf(23.10))))))),right=Node(j=12,t=7.51,left=Node(j=0,t=0.11,left=Node(j=2,t=4.86,left=Node(j=0,t=0.04,left=Leaf(22.90),right=Leaf(22.90)),right=Node(j=0,t=0.05,left=Leaf(22.20),right=Leaf(22.20))),right=Node(j=0,t=0.15,left=Leaf(23.30),right=Node(j=0,t=0.18,left=Leaf(23.10),right=Leaf(23.00)))),right=Node(j=0,t=0.20,left=Node(j=0,t=0.11,left=Leaf(24.40),right=Leaf(25.00)),right=Node(j=0,t=0.23,left=Leaf(24.40),right=Leaf(24.30))))))),right=Node(j=5,t=6.23,left=Node(j=0,t=0.11,left=Node(j=0,t=0.02,left=Leaf(20.10),right=Leaf(20.10)),right=Node(j=5,t=6.08,left=Leaf(22.20),right=Node(j=5,t=6.11,left=Leaf(21.00),right=Node(j=0,t=0.12,left=Leaf(21.40),right=Leaf(21.50))))),right=Node(j=0,t=0.10,left=Leaf(22.20),right=Leaf(22.30))))),right=Node(j=0,t=0.14,left=Node(j=0,t=0.02,left=Leaf(16.50),right=Node(j=0,t=0.05,left=Leaf(19.80),right=Leaf(18.50))),right=Node(j=12,t=7.79,left=Leaf(25.00),right=Node(j=6,t=81.30,left=Node(j=0,t=5.82,left=Node(j=4,t=0.58,left=Node(j=0,t=3.57,left=Leaf(23.20),right=Leaf(23.00)),right=Leaf(22.60)),right=Leaf(21.40)),right=Node(j=3,t=0.00,left=Node(j=0,t=6.65,left=Node(j=0,t=5.82,left=Node(j=0,t=3.84,left=Leaf(19.90),right=Leaf(20.20)),right=Leaf(19.50)),right=Leaf(21.40)),right=Node(j=0,t=3.85,left=Leaf(21.70),right=Leaf(22.70))))))),right=Node(j=0,t=0.13,left=Node(j=6,t=54.40,left=Leaf(21.70),right=Node(j=5,t=6.13,left=Node(j=0,t=0.05,left=Leaf(20.60),right=Leaf(20.40)),right=Leaf(19.80))),right=Node(j=11,t=387.94,left=Node(j=0,t=0.23,left=Leaf(18.60),right=Node(j=0,t=0.64,left=Leaf(18.20),right=Leaf(18.40))),right=Node(j=0,t=0.21,left=Leaf(19.30),right=Leaf(19.20)))))),right=Node(j=12,t=5.68,left=Node(j=10,t=17.80,left=Node(j=11,t=393.37,left=Node(j=5,t=6.73,left=Node(j=1,t=0.00,left=Leaf(29.40),right=Node(j=0,t=0.02,left=Leaf(30.10),right=Leaf(29.80))),right=Node(j=0,t=0.03,left=Node(j=0,t=0.02,left=Leaf(31.10),right=Leaf(31.20)),right=Leaf(30.50))),right=Node(j=0,t=0.10,left=Node(j=0,t=0.06,left=Leaf(33.10),right=Node(j=0,t=0.10,left=Leaf(32.00),right=Leaf(32.50))),right=Leaf(35.10))),right=Node(j=0,t=0.13,left=Node(j=0,t=0.04,left=Node(j=0,t=0.04,left=Leaf(27.90),right=Leaf(28.00)),right=Leaf(26.60)),right=Leaf(22.80))),right=Node(j=7,t=3.79,left=Node(j=2,t=8.56,left=Node(j=12,t=7.60,left=Node(j=1,t=20.00,left=Node(j=2,t=2.89,left=Leaf(28.40),right=Node(j=0,t=0.07,left=Leaf(29.90),right=Node(j=0,t=0.61,left=Leaf(30.10),right=Leaf(30.10)))),right=Leaf(32.00)),right=Node(j=0,t=0.05,left=Leaf(28.40),right=Node(j=0,t=0.15,left=Leaf(27.50),right=Leaf(27.50)))),right=Node(j=0,t=0.07,left=Leaf(28.70),right=Node(j=0,t=0.11,left=Node(j=0,t=0.10,left=Leaf(22.80),right=Leaf(22.00)),right=Leaf(23.80)))),right=Node(j=12,t=9.54,left=Node(j=1,t=22.00,left=Node(j=11,t=393.74,left=Node(j=0,t=0.19,left=Node(j=0,t=0.05,left=Leaf(27.10),right=Node(j=0,t=0.06,left=Leaf(26.60),right=Leaf(26.20))),right=Leaf(25.10)),right=Leaf(28.60)),right=Node(j=7,t=6.19,left=Node(j=2,t=4.93,left=Node(j=0,t=0.04,left=Node(j=0,t=0.03,left=Leaf(23.90),right=Leaf(23.90)),right=Leaf(23.30)),right=Leaf(22.00)),right=Node(j=1,t=40.00,left=Leaf(26.60),right=Node(j=0,t=0.02,left=Leaf(24.50),right=Node(j=0,t=0.04,left=Leaf(24.80),right=Leaf(24.80)))))),right=Node(j=0,t=0.11,left=Leaf(22.00),right=Leaf(21.00))))))),right=Node(j=7,t=2.07,left=Node(j=0,t=6.29,left=Node(j=5,t=5.40,left=Node(j=0,t=0.21,left=Leaf(8.10),right=Node(j=0,t=2.37,left=Node(j=0,t=1.63,left=Leaf(14.40),right=Leaf(14.60)),right=Node(j=5,t=4.90,left=Leaf(11.80),right=Node(j=0,t=2.45,left=Leaf(13.10),right=Leaf(13.40))))),right=Node(j=6,t=88.40,left=Leaf(21.40),right=Node(j=12,t=17.19,left=Node(j=5,t=5.69,left=Node(j=0,t=0.26,left=Leaf(16.20),right=Leaf(15.60)),right=Node(j=5,t=5.94,left=Node(j=0,t=0.32,left=Leaf(17.40),right=Leaf(16.80)),right=Leaf(18.00))),right=Node(j=5,t=6.34,left=Node(j=6,t=97.90,left=Node(j=6,t=96.40,left=Node(j=10,t=20.20,left=Node(j=0,t=2.73,left=Node(j=0,t=0.15,left=Leaf(15.20),right=Leaf(15.40)),right=Leaf(14.90)),right=Leaf(14.30)),right=Node(j=0,t=0.15,left=Leaf(17.30),right=Leaf(17.80))),right=Node(j=0,t=2.38,left=Node(j=0,t=0.25,left=Leaf(13.30),right=Leaf(13.80)),right=Leaf(15.60))),right=Leaf(12.50))))),right=Node(j=4,t=0.67,left=Node(j=0,t=23.65,left=Node(j=5,t=6.22,left=Node(j=7,t=1.17,left=Node(j=0,t=11.11,left=Leaf(13.80),right=Leaf(13.80)),right=Node(j=5,t=5.57,left=Node(j=0,t=8.79,left=Leaf(11.70),right=Leaf(11.90)),right=Node(j=0,t=12.25,left=Leaf(10.20),right=Leaf(10.20)))),right=Node(j=6,t=93.30,left=Node(j=0,t=8.49,left=Leaf(14.50),right=Leaf(13.90)),right=Node(j=0,t=9.82,left=Leaf(13.30),right=Leaf(13.10)))),right=Leaf(16.30)),right=Node(j=12,t=18.85,left=Node(j=4,t=0.69,left=Node(j=0,t=13.36,left=Node(j=0,t=8.64,left=Leaf(13.80),right=Leaf(12.70)),right=Leaf(10.90)),right=Node(j=0,t=9.97,left=Leaf(15.40),right=Leaf(16.70))),right=Node(j=0,t=9.60,left=Node(j=12,t=19.92,left=Leaf(8.50),right=Node(j=7,t=1.94,left=Node(j=0,t=9.19,left=Node(j=7,t=1.53,left=Leaf(12.30),right=Node(j=0,t=7.37,left=Leaf(11.00),right=Node(j=0,t=8.15,left=Leaf(11.50),right=Leaf(11.30)))),right=Node(j=0,t=9.39,left=Leaf(12.80),right=Leaf(12.10))),right=Leaf(9.50))),right=Node(j=4,t=0.69,left=Node(j=0,t=24.80,left=Node(j=0,t=9.92,left=Leaf(6.30),right=Node(j=5,t=5.90,left=Node(j=0,t=15.86,left=Leaf(8.30),right=Leaf(8.30)),right=Node(j=0,t=10.83,left=Leaf(7.50),right=Node(j=0,t=14.24,left=Leaf(7.20),right=Leaf(7.20))))),right=Node(j=0,t=25.05,left=Leaf(5.60),right=Leaf(5.00))),right=Node(j=12,t=28.28,left=Node(j=5,t=6.46,left=Node(j=0,t=10.67,left=Leaf(11.80),right=Node(j=0,t=22.05,left=Leaf(10.50),right=Leaf(10.50))),right=Leaf(8.40)),right=Node(j=11,t=285.83,left=Node(j=0,t=13.68,left=Leaf(8.40),right=Leaf(8.80)),right=Node(j=0,t=16.81,left=Leaf(7.20),right=Leaf(7.40))))))))),right=Node(j=11,t=306.38,left=Node(j=12,t=17.31,left=Node(j=0,t=3.77,left=Node(j=0,t=0.98,left=Node(j=0,t=0.96,left=Leaf(14.80),right=Leaf(15.60)),right=Node(j=0,t=1.21,left=Leaf(17.40),right=Leaf(19.00))),right=Node(j=0,t=7.75,left=Leaf(14.90),right=Leaf(13.50))),right=Node(j=11,t=81.33,left=Node(j=11,t=0.32,left=Leaf(13.40),right=Node(j=0,t=4.75,left=Leaf(14.10),right=Leaf(14.10))),right=Node(j=6,t=97.40,left=Node(j=12,t=23.27,left=Node(j=0,t=1.61,left=Leaf(13.50),right=Leaf(13.40)),right=Node(j=0,t=1.39,left=Leaf(13.20),right=Leaf(13.30))),right=Leaf(13.00)))),right=Node(j=6,t=84.40,left=Node(j=11,t=393.29,left=Node(j=0,t=5.29,left=Node(j=0,t=0.13,left=Node(j=0,t=0.09,left=Leaf(21.70),right=Leaf(20.40)),right=Node(j=7,t=3.59,left=Node(j=4,t=0.49,left=Leaf(23.70),right=Node(j=0,t=0.18,left=Leaf(23.10),right=Leaf(23.20))),right=Node(j=0,t=0.22,left=Leaf(22.40),right=Leaf(22.50)))),right=Node(j=0,t=5.69,left=Leaf(19.10),right=Leaf(19.10))),right=Node(j=5,t=5.57,left=Leaf(17.50),right=Node(j=2,t=6.91,left=Node(j=0,t=0.01,left=Leaf(18.90),right=Leaf(19.40)),right=Node(j=6,t=58.00,left=Node(j=0,t=0.14,left=Leaf(20.30),right=Leaf(20.10)),right=Node(j=0,t=0.25,left=Leaf(19.80),right=Leaf(20.00)))))),right=Node(j=0,t=0.17,left=Node(j=1,t=0.00,left=Node(j=0,t=0.09,left=Leaf(20.50),right=Node(j=0,t=0.12,left=Leaf(18.80),right=Node(j=0,t=0.13,left=Leaf(19.50),right=Leaf(19.50)))),right=Leaf(27.10)),right=Node(j=6,t=91.30,left=Node(j=6,t=90.30,left=Node(j=2,t=8.14,left=Node(j=0,t=0.23,left=Leaf(16.60),right=Leaf(16.60)),right=Node(j=0,t=0.17,left=Leaf(18.30),right=Leaf(17.70))),right=Node(j=0,t=0.26,left=Leaf(19.40),right=Leaf(21.70))),right=Node(j=12,t=17.60,left=Node(j=0,t=0.17,left=Leaf(16.00),right=Node(j=0,t=0.56,left=Node(j=0,t=0.33,left=Leaf(18.40),right=Leaf(18.10)),right=Leaf(17.80))),right=Node(j=5,t=5.57,left=Node(j=0,t=0.25,left=Leaf(14.40),right=Leaf(13.60)),right=Node(j=0,t=4.87,left=Node(j=7,t=6.08,left=Node(j=0,t=0.21,left=Leaf(16.50),right=Leaf(16.70)),right=Leaf(15.00)),right=Node(j=0,t=5.44,left=Leaf(15.20),right=Leaf(14.60))))))))))),right=Node(j=5,t=7.42,left=Node(j=0,t=6.54,left=Node(j=7,t=1.88,left=Node(j=0,t=1.22,left=Leaf(41.30),right=Leaf(50.00)),right=Node(j=2,t=6.41,left=Node(j=4,t=0.49,left=Node(j=7,t=6.48,left=Node(j=5,t=7.24,left=Node(j=0,t=0.09,left=Node(j=0,t=0.03,left=Node(j=0,t=0.03,left=Leaf(33.40),right=Leaf(34.90)),right=Node(j=12,t=5.10,left=Node(j=5,t=7.15,left=Node(j=0,t=0.08,left=Node(j=0,t=0.06,left=Leaf(37.20),right=Leaf(37.30)),right=Leaf(37.00)),right=Leaf(36.40)),right=Node(j=0,t=0.07,left=Node(j=0,t=0.06,left=Leaf(36.10),right=Leaf(36.20)),right=Leaf(34.90)))),right=Leaf(33.10)),right=Node(j=2,t=2.18,left=Leaf(33.40),right=Node(j=0,t=0.07,left=Leaf(33.20),right=Leaf(33.20)))),right=Node(j=0,t=0.04,left=Node(j=0,t=0.02,left=Node(j=0,t=0.01,left=Leaf(32.20),right=Node(j=0,t=0.01,left=Leaf(32.70),right=Node(j=0,t=0.02,left=Leaf(32.90),right=Leaf(33.00)))),right=Node(j=0,t=0.04,left=Node(j=0,t=0.03,left=Leaf(34.90),right=Leaf(34.60)),right=Leaf(33.30))),right=Node(j=0,t=0.05,left=Leaf(30.30),right=Node(j=0,t=0.06,left=Leaf(29.00),right=Leaf(29.60))))),right=Node(j=0,t=0.36,left=Node(j=7,t=3.41,left=Node(j=0,t=0.05,left=Leaf(28.70),right=Leaf(26.70)),right=Leaf(23.60)),right=Node(j=7,t=1.93,left=Node(j=0,t=0.55,left=Leaf(36.50),right=Leaf(36.00)),right=Node(j=0,t=0.54,left=Node(j=0,t=0.51,left=Node(j=0,t=0.46,left=Leaf(31.70),right=Leaf(31.50)),right=Leaf(33.80)),right=Node(j=0,t=0.79,left=Leaf(30.70),right=Leaf(31.00)))))),right=Node(j=0,t=0.06,left=Leaf(23.90),right=Leaf(25.00)))),right=Node(j=0,t=8.25,left=Leaf(17.80),right=Leaf(10.40))),right=Node(j=0,t=2.01,left=Node(j=7,t=3.20,left=Node(j=0,t=0.53,left=Node(j=0,t=0.52,left=Node(j=2,t=3.97,left=Node(j=0,t=0.06,left=Leaf(50.00),right=Leaf(48.80)),right=Leaf(44.80)),right=Leaf(43.10)),right=Node(j=0,t=0.58,left=Leaf(50.00),right=Node(j=0,t=0.61,left=Leaf(50.00),right=Node(j=0,t=1.46,left=Leaf(50.00),right=Node(j=0,t=1.52,left=Leaf(50.00),right=Node(j=0,t=1.83,left=Leaf(50.00),right=Leaf(50.00))))))),right=Node(j=12,t=3.95,left=Node(j=0,t=0.33,left=Node(j=5,t=7.82,left=Node(j=8,t=3.00,left=Node(j=2,t=2.03,left=Leaf(42.30),right=Node(j=0,t=0.02,left=Leaf(44.00),right=Leaf(43.80))),right=Node(j=0,t=0.06,left=Leaf(46.00),right=Leaf(46.70))),right=Node(j=0,t=0.02,left=Leaf(50.00),right=Leaf(48.30))),right=Node(j=5,t=8.04,left=Leaf(37.60),right=Node(j=0,t=0.37,left=Leaf(42.80),right=Leaf(41.70)))),right=Node(j=0,t=0.12,left=Leaf(38.70),right=Leaf(35.20)))),right=Leaf(21.90))))\n",
      "nmin: 1\n",
      "number of leaves: 350\n",
      "RMSE ON TRAINING SET: 0.0\n",
      "RMSE ON VALIDATION SET: 4.159889359968543\n"
     ]
    }
   ],
   "source": [
    "def buildTree(X, y, nmin=1):\n",
    "        split = chooseSplit(X, y, nmin)\n",
    "        if split is None:\n",
    "            return Leaf(np.mean(y))\n",
    "        else:\n",
    "            (j, t) = split\n",
    "            sel = X[:,j] <= t\n",
    "            nsel = np.logical_not(sel)\n",
    "            left = buildTree(X[sel],y[sel],nmin)\n",
    "            right = buildTree(X[nsel],y[nsel],nmin)\n",
    "            return Node(split, left, right)\n",
    "        \n",
    "main(1)\n",
    "#main(4)"
   ]
  },
  {
   "cell_type": "markdown",
   "metadata": {},
   "source": [
    "<font color='red'>**Q4:**</font> Using `nmin=1`, why the RMSE on the training set is 0 ? Looking at the RMSE on  the validation set, test with `nmin=4`, why the RMSE is reduced ?\n",
    "\n",
    "<font color='red'>**Q5:**</font> Rescaling the explanatory variables is an important pre-processing for some methods like neural network or penalized linear regression like Ridge for instance. For the regression tree model seen here, will it change a thing to scale the explanatory variables ? More generally, which property makes this transformation useless ?"
   ]
  },
  {
   "cell_type": "markdown",
   "metadata": {
    "tags": [
     "corrected"
    ]
   },
   "source": [
    "<font color='blue'>**A4:**</font> If no examples are the same, with `nmin=1`, the tree is grown till each leaf contains only one example. With `nmin=4`, the model is more smooth, it does not overfit the training set anymore.\n",
    "\n",
    "<font color='blue'>**A5:**</font> No it will not change a thing. A strictly monotone transformation applied to an explanatory variable will not change the possible partition that can be obtained with the considered $x_j\\leq t$ splits."
   ]
  },
  {
   "cell_type": "markdown",
   "metadata": {},
   "source": [
    "<!--bibtex \n",
    "\n",
    "@article{breiman1996bagging,\n",
    "  title={Bagging predictors},\n",
    "  author={Breiman, Leo},\n",
    "  journal={Machine learning},\n",
    "  volume={24},\n",
    "  number={2},\n",
    "  pages={123--140},\n",
    "  year={1996},\n",
    "  publisher={Springer}\n",
    "}\n",
    "@article{breiman2001random,\n",
    "  title={Random forests},\n",
    "  author={Breiman, Leo},\n",
    "  journal={Machine learning},\n",
    "  volume={45},\n",
    "  number={1},\n",
    "  pages={5--32},\n",
    "  year={2001},\n",
    "  publisher={Springer}\n",
    "}\n",
    "\n",
    "-->\n",
    "# Bagging and Random Forest\n",
    "The _bagging_ is a learning meta-algorithm proposed in [(Bagging predictors, L. Breiman, Machine Learning 1996)](https://www.stat.berkeley.edu/~breiman/bagging.pdf). Considering an unstable learning algorithm $\\mathcal{A}$ (low bias and high variance), the _bagging_ computes the mean of several models built by $\\mathcal{A}$. The new learning algorithm obtained through the bagging algorithm have a variance inferior to the variance of $\\mathcal{A}$. This variance reduction reduces the prediction error.\n",
    "\n",
    "The _random forest_ is a learning algorithm proposed in [(Random forests, L. Breiman, Machine Learning 2001)](https://www.stat.berkeley.edu/~breiman/randomforest2001.pdf). It uses the _bagging_ with a learning algorithm that builds a tree model. This tree model is randomly distorted. With this, the estimated mean is computed over very different tree models. This reduces the variance of this estimated mean.\n",
    "## Bagging\n",
    "\n",
    "Let us consider a fixed $x_0$ and $Y_0=(Y|X=x_0)$, using a learning algorithm $\\mathcal{A}$, the _bagging_ takes advantage of the inequation below:\n",
    "$${\\mathbb{E}}_{Y_0,S}[(Y_0-\\mathcal{A}[S](x_0))^2]\\geq {\\mathbb{E}}_{Y_0}[(Y_0-{\\mathbb{E}}_{S}[\\mathcal{A}[S](x_0)])^2]$$ where $\\mathcal{A}[S]$ refers to the model obtained by calling $\\mathcal{A}$ with the training set $S$. The more the learning algorithm $\\mathcal{A}$ is unstable (high variance), the more the difference between these two quantities is large.\n",
    "\n",
    "The idea of the _bagging_ is to predict ${\\mathbb{E}}_{S}[\\mathcal{A}[S](x_0)]$ instead of predicting $\\mathcal{A}[S](x_0)$.  One issue is that we only have access to one training set $S$. To work around this problem, _bootstrap_ samples ${B_1}^{S},\\ldots,{B_b}^{S}$ of $S$ are used. Each _bootstrap_ sample ${B_i}^{S}$ can be regarded as a \"new\" training set. Then, using these ${B_i}^{S}$'s, ${\\mathbb{E}}_{S}[\\mathcal{A}[S](x_0)]$ is estimated by computing the mean of the $\\mathcal{A}[{B_i}^{S}](x_0)$.\n",
    "\n",
    "The _bootstrap_ is a resampling method. It draws a set $B$ from a set $S$ with $\\vert S\\vert=\\vert B\\vert=n$. The set $S$ is assumed to come from $n$ _i.i.d._ draws of a random variable $X$. We want to draw a new set $B$ but can not draw from the true $X$ anymore. Using the draws in $S$, the idea of the _bootstrap_ is to \"simulate\" the draw of $X$. A draw of $X$ will be \"simulated\" by drawing one element of $S$ with a uniform probability. The bootstrap sample $B$ is $n$ \"simulated\" draws.\n",
    "\n",
    "<font color='red'>**Q6:**</font> Write a function `bootstrap(X,y)` that returns a bootstrap sample of `X` and `y`.\n",
    "\n",
    "<font color='green'>**Hints for Q6:**</font> Using [`np.random.choice`](https://docs.scipy.org/doc/numpy-1.15.0/reference/generated/numpy.random.choice.html) (click on it to see the documentation), one can compute a variable `indexes` containing the indexes for the selected examples. Then using this `indexes` one can create new numpy arrays using the syntaxe `array[indexes]` which create a new array containing the elements of `array` at the indexes `indexes`."
   ]
  },
  {
   "cell_type": "code",
   "execution_count": 4,
   "metadata": {
    "tags": [
     "corrected"
    ]
   },
   "outputs": [],
   "source": [
    "def bootstrap(X,y):\n",
    "    n = X.shape[0]\n",
    "    sel = np.random.choice(np.arange(n), size=n, replace=True)\n",
    "    return X[sel], y[sel]"
   ]
  },
  {
   "cell_type": "markdown",
   "metadata": {},
   "source": [
    "<font color='red'>**Q7:**</font> Using `bootstrap` and `sklearn.tree.DecisionTreeRegressor`, write the function `bagging(X,y,ntrees,nmin)` that return a list of trees trained using a different bootstrap sample for each tree. Note that the default behavior of `sklearn.tree.DecisionTreeRegressor()` is to grow the tree till there are not enough examples to split (just like in <font color='red'>**Q4**</font>). Here `nmin` is the minimum number of samples in each leaf."
   ]
  },
  {
   "cell_type": "code",
   "execution_count": 6,
   "metadata": {
    "tags": [
     "corrected"
    ]
   },
   "outputs": [],
   "source": [
    "import sklearn.tree\n",
    "\n",
    "def bagging(X,y,ntrees,nmin):\n",
    "    trees = []\n",
    "    for _ in range(ntrees):\n",
    "        Xb, yb = bootstrap(X,y)\n",
    "        tree = sklearn.tree.DecisionTreeRegressor(min_samples_leaf=nmin, min_samples_split=2*nmin)\n",
    "        tree.fit(Xb,yb)\n",
    "        trees.append(tree)\n",
    "    return trees"
   ]
  },
  {
   "cell_type": "markdown",
   "metadata": {},
   "source": [
    "<font color='red'>**Q8:**</font> The prediction of a bagged models is the mean of the prediction of each model (a tree here). Write `mean_predict(trees, X)` that returns the mean prediction of the trees `trees` on the input `X`.\n",
    "\n",
    "<font color='green'>**Hints for Q8:**</font> One can initialize a variable `res=0`, and then loop on `trees` to sum the prediction of the tree and then divide the prediction by the number of trees at the end."
   ]
  },
  {
   "cell_type": "code",
   "execution_count": 7,
   "metadata": {
    "tags": [
     "corrected"
    ]
   },
   "outputs": [],
   "source": [
    "def mean_predict(trees,X):\n",
    "    res = 0\n",
    "    for tree in trees:\n",
    "        res += tree.predict(X)\n",
    "    return res/len(trees)"
   ]
  },
  {
   "cell_type": "markdown",
   "metadata": {},
   "source": [
    "<font color='red'>**Q9:**</font> Call the function `plotbagging`. This function trains 500 bootstrapped trees on the training set and then plots the performances on the validation sets as a function of the number of trees."
   ]
  },
  {
   "cell_type": "code",
   "execution_count": 8,
   "metadata": {},
   "outputs": [],
   "source": [
    "import matplotlib.pyplot as plt\n",
    "\n",
    "def predictions_from_trees(predict,trees, X):\n",
    "    return [predict(trees[:i],X) for i in range(1,len(trees)+1)]\n",
    "\n",
    "def rmses_from_predictions(predictions,y):\n",
    "    return [rmse(predi, y) for predi in predictions]\n",
    "\n",
    "def plotbagging():\n",
    "    X, y = load_data()\n",
    "    Xts, Xvs, yts, yvs = sklearn.model_selection.train_test_split(X, y, random_state=42,train_size =350)\n",
    "    ntrees = 500\n",
    "    nmin = 1\n",
    "    baggedtrees = bagging(Xts,yts,ntrees,nmin=nmin)\n",
    "    plt.plot(rmses_from_predictions(predictions_from_trees(mean_predict,baggedtrees,Xvs),yvs))\n",
    "    plt.show()\n",
    "\n",
    "# plotbagging() # uncomment and call this function"
   ]
  },
  {
   "cell_type": "code",
   "execution_count": 9,
   "metadata": {
    "tags": [
     "corrected"
    ]
   },
   "outputs": [
    {
     "data": {
      "image/png": "[encoded data removed]",
      "text/plain": [
       "<Figure size 432x288 with 1 Axes>"
      ]
     },
     "metadata": {
      "needs_background": "light"
     },
     "output_type": "display_data"
    }
   ],
   "source": [
    "plotbagging() # uncomment and call this function"
   ]
  },
  {
   "cell_type": "markdown",
   "metadata": {},
   "source": [
    "## Random Forest\n",
    "If we consider $X_1,\\ldots,X_b$ _i.i.d._ of variance $\\sigma^2$, we have ${\\mathbb{Var}}\\left[\\frac{1}{b}\\sum_{i=1}^b X_i\\right]=\\frac{\\sigma^2}{b}$. Using this fact, the bagging method averages different prediction to reduce the variance of the predicted value. This is done by predicting $\\frac{1}{b}\\sum_{i=1}^b \\mathcal{A}[{B_i}^{S}](x_0)$ instead of predicting $\\mathcal{A}[S](x_0)$. However, the variables $\\mathcal{A}[{B_i}^{S}](x_0)$ are not independent and they have a correlation coefficient $\\rho\\geq 0$. Thus, we have that ${\\mathbb{Var}}\\left[\\frac{1}{b}\\sum_{i=1}^b \\mathcal{A}[{B_i}^{S}](x_0)\\right]=\\rho \\sigma^2+\\frac{(1-\\rho)}{b}\\sigma^2$. \n",
    "\n",
    "Intuitively, the ${B_i}^{S}$ bootstrap samples are computed on the same $S$: if the drawn $S$ is different from the \"true\" distribution then all the bootstrap samples ${B_i}^{S}$ will be similar to $S$ and thus, they will be similarly different from the \"true\" distribution. \n",
    "\n",
    "The idea of the random forest is to reduce the correlation coefficient $\\rho$. To do this, the split selection is modified. If we have $p$ explanatory variables, instead of considering the $p$ variables for selecting the best split, we only consider $m$ variables. These $m$ variables are selected randomly among the $p$ variables at each split.\n",
    "\n",
    "<font color='red'>**Q10:**</font> When $m=p$, to which algorithm the random forest is equivalent ?\n",
    "\n",
    "<font color='red'>**Q11:**</font> When $m$ decreases, how the variance of the random forest algorithm vary ? Similarly, when $m$ decreases, how the bias of the random forest vary ?\n",
    "\n",
    "<font color='red'>**Q12:**</font> Write the function `random_forest(X, y, ntrees, m, nmin)` that returns a list of tree models. To grow these trees, each split variable will be selected among a random set of $m$ variables. This set is drawn each time a split has to be selected.\n",
    "\n",
    "<font color='green'>**Hints for Q12:**</font> To enforce that each split variable will be selected among a random set of $m$ variables, you can specify the $m$ value through the parameter `max_features` of the constructor `sklearn.tree.DecisionTreeRegressor`. The code of the `random_forest` function will be very similar to the `bagging` one."
   ]
  },
  {
   "cell_type": "markdown",
   "metadata": {
    "tags": [
     "corrected"
    ]
   },
   "source": [
    "<font color='blue'>**A10:**</font> Bagging.\n",
    "\n",
    "<font color='blue'>**A11:**</font> When m decreases the variance reduces (correlation between trees reduces), but the bias increase (the built trees are less \"optimal\").\n"
   ]
  },
  {
   "cell_type": "code",
   "execution_count": 10,
   "metadata": {
    "tags": [
     "corrected"
    ]
   },
   "outputs": [],
   "source": [
    "def random_forest(X, y, ntrees, m,nmin):\n",
    "    trees = []\n",
    "    for _ in range(ntrees):\n",
    "        Xb, yb = bootstrap(X,y)\n",
    "        tree = sklearn.tree.DecisionTreeRegressor(max_features=m, min_samples_leaf=nmin, min_samples_split=2*nmin)\n",
    "        tree.fit(Xb,yb)\n",
    "        trees.append(tree)\n",
    "    return trees"
   ]
  },
  {
   "cell_type": "markdown",
   "metadata": {},
   "source": [
    "# Boosting\n",
    "_Boosting_ is a family of meta-algorithms. Considering a high bias-low variance learning algorithm $\\mathcal{A}$, a _boosting_ meta-algorithm learns a model by combining several models obtained by using $\\mathcal{A}$. As opposed to the _bagging_, the $\\mathcal{A}$ is applied to a different learning problem at each iteration.\n",
    "\n",
    "One of the first boosting algorithm is called _AdaBoost_ ([A decision-theoretic generalization of on-line learning and an application to boosting, Y. Freund and R. Schapire, Journal of computer and system sciences, 1997](https://www.cis.upenn.edu/~mkearns/teaching/COLT/adaboost.pdf)). It modifies the weight of each examples at each iteration. Another boosting algorithm, the _gradient boosting_ ([Greedy function approximation: a gradient boosting machine, J. Friedman, Annals of statistics, 2001](https://statweb.stanford.edu/~jhf/ftp/trebst.pdf)), changes the variable to be predicted at each iteration.\n",
    "\n",
    "Considering a quadratic loss function, the _gradient boosting_ algorithm consists in fitting the residuals at each iteration. The obtained sequence of models $h_1,\\ldots,h_n$ are combined to obtain $h$: $h=\\mu+\\nu \\sum_{i=1}^n h_i$ where $\\nu \\in \\left]0;1\\right]$ is the _shrinkage_ parameter and $\\mu$ is the mean of the variable to predict.\n",
    "\n",
    "\n",
    "<img src=\"algoboost.png\" width=\"500\">\n",
    "\n",
    "<font color='red'>**Q13:**</font> The constructor `sklearn.tree.DecisionTreeRegressor(max_depth)` grows a tree with a depth inferior to `max_depth`. This parameter is usually low, leading to a high bias-low variance learning algorithm. Using this constructor, write the function `gradient_boost(X, y, ntrees, nu, max_depth)` that returns a tuple containing $\\mu$ and the list of fitted trees."
   ]
  },
  {
   "cell_type": "code",
   "execution_count": 12,
   "metadata": {
    "tags": [
     "corrected"
    ]
   },
   "outputs": [],
   "source": [
    "def gradient_boost(X, y, ntrees, nu, max_depth):\n",
    "    mu = np.mean(y)\n",
    "    residuals = y - mu\n",
    "    trees = []\n",
    "    for _ in range(ntrees):\n",
    "        tree = sklearn.tree.DecisionTreeRegressor(max_depth=max_depth)\n",
    "        tree.fit(X, residuals)\n",
    "        residuals = residuals - nu * tree.predict(X)\n",
    "        trees.append(tree)\n",
    "    return mu, trees"
   ]
  },
  {
   "cell_type": "markdown",
   "metadata": {},
   "source": [
    "<font color='red'>**Q14:**</font> Write the function `predict_from_gb(mu, nu, trees, X)` that returns the predictions of the gradient boosted model on the input `X`. To compute this prediction you will use the model returned by`gradient_boost`. This model is a tuple containing  $\\mu$ and the list of fitted trees. In `predict_from_gb`, these two values are two parameters: `mu` and `trees`.\n",
    "\n",
    "<font color='green'>**Hints for Q14:**</font> One can start by copy-paste the code in <font color='red'>**Q8**</font> as the obtained code should be quite similar."
   ]
  },
  {
   "cell_type": "code",
   "execution_count": 14,
   "metadata": {
    "tags": [
     "corrected"
    ]
   },
   "outputs": [],
   "source": [
    "def predict_from_gb(mu, nu, trees, X):\n",
    "    res = mu\n",
    "    for tree in trees:\n",
    "        res += nu * tree.predict(X)\n",
    "    return res"
   ]
  },
  {
   "cell_type": "markdown",
   "metadata": {},
   "source": [
    "<font color='red'>**Q15:**</font> Execute the code below to plot the RMSE on the validation as a function of the number of trees."
   ]
  },
  {
   "cell_type": "code",
   "execution_count": 15,
   "metadata": {},
   "outputs": [
    {
     "data": {
      "image/png": "[encoded data removed]",
      "text/plain": [
       "<Figure size 432x288 with 1 Axes>"
      ]
     },
     "metadata": {
      "needs_background": "light"
     },
     "output_type": "display_data"
    },
    {
     "name": "stdout",
     "output_type": "stream",
     "text": [
      "23.71688675880432\n"
     ]
    }
   ],
   "source": [
    "import time\n",
    "X, y = load_data()\n",
    "Xts, Xvs, yts, yvs = sklearn.model_selection.train_test_split(X, y, random_state=42,train_size =350)\n",
    "\n",
    "s=time.time()\n",
    "ntrees = 500\n",
    "nmin = 1\n",
    "nu = 0.05\n",
    "max_depth = 3\n",
    "m = 9\n",
    "\n",
    "baggedtrees = bagging(Xts,yts,ntrees,nmin=nmin)\n",
    "baggedrmses = rmses_from_predictions(predictions_from_trees(mean_predict,baggedtrees,Xvs),yvs)\n",
    "\n",
    "rftrees = random_forest(Xts,yts,ntrees,m=m,nmin=nmin)\n",
    "rfrmses = rmses_from_predictions(predictions_from_trees(mean_predict,rftrees,Xvs),yvs)\n",
    "\n",
    "mu, gbtrees = gradient_boost(Xts, yts, ntrees, nu, max_depth)\n",
    "def gbpredict(trees,X):\n",
    "    return predict_from_gb(mu,nu,trees,X)\n",
    "gbrmses = rmses_from_predictions(predictions_from_trees(gbpredict,gbtrees,Xvs),yvs)\n",
    "\n",
    "\n",
    "x = np.arange(1,ntrees+1)\n",
    "for y in [baggedrmses,rfrmses, gbrmses]:\n",
    "    plt.plot(x, y)\n",
    "plt.xlabel(\"Number of trees used\")\n",
    "plt.ylabel(\"RMSE on the validation set\")\n",
    "plt.legend(('Bagged Trees', 'Random Forest', 'Gradient Boosted Trees'), loc='upper right')\n",
    "plt.show()\n",
    "print(time.time()-s)\n"
   ]
  }
 ],
 "metadata": {
  "celltoolbar": "Tags",
  "kernelspec": {
   "display_name": "Python 3 (ipykernel)",
   "language": "python",
   "name": "python3"
  },
  "language_info": {
   "codemirror_mode": {
    "name": "ipython",
    "version": 3
   },
   "file_extension": ".py",
   "mimetype": "text/x-python",
   "name": "python",
   "nbconvert_exporter": "python",
   "pygments_lexer": "ipython3",
   "version": "3.10.8"
  }
 },
 "nbformat": 4,
 "nbformat_minor": 4
}
