{
 "cells": [
  {
   "cell_type": "markdown",
   "metadata": {},
   "source": [
    "# Trees, Bagging and Boosting\n",
    "\n",
    "This lab illustrates one learning algorithm used to build decision trees and two learning meta-algorithms, the _bagging_ and the _boosting_.\n",
    "\n",
    "<font color='red'>For pedagogical reasons, we code these models _almost_ from scratch, however these models are already implemented in `sklearn`. Outside of this lab, one should use the `sklearn` implementations.</font>\n",
    "\n",
    "In this lab, we work on the Boston housing data. Using this data set we want to build a model explaining the median value of owner-occupied homes. When facing a real data set, do not hesitate to do some plots first in order to get a better insight of the data.\n",
    "\n",
    "# Decision Trees\n",
    "A decision tree is a model that splits the input space recursively into regions $R_1,\\ldots,R_M$. These regions are a partition of the input space. Each region $R_m$ is associated to a predicted value $c_k$. For all the input $x\\in R_m$, the tree model $h$ predicts $c_m$. In the regression context, we have $h(x)=\\sum_{m=1}^M c_m {\\mathbb{1}}_{R_m}(x)$.\n",
    "\n",
    "Usually, each node of the tree model is associated to one condition on one explanatory variable. Considering a new example $x$, if it satisfies the condition at the node then it goes to the left branch else it goes to the right branch. This process is repeated till a leaf is reached. The value predicted is the one associated to this leaf. The Figure 1 shows a tree model and the associated partition.\n",
    "\n",
    "<img src=\"figure.png\" width=\"700\">\n",
    "\n",
    "\n",
    "Building a tree model minimizing the error on the training set $S$ is a difficult task. Hence, a greedy recursive algorithm is used to build the tree model in a top-down fashion. First, the condition $\\mathrm{condition}$ associated to the root node is selected. Secondly, the left (resp. right) subtree is built by applying this algorithm on the examples of $S$ satisfying $\\mathrm{condition}$ (resp. $\\neg \\mathrm{condition}$). This algorithm stops when there are not enough examples to perform a split. This algorithm is described below:\n",
    "\n",
    "<img src=\"algo.png\" width=\"700\">\n",
    "\n",
    "The function ``chooseSplit`` chooses the \"best\" split $x_j\\leq t$ where $x_j$ is an explanatory variable and $t$ is the threshold of the condition. On the left leaf, we predict $c_1$ and on the right leaf we predict $c_2$. Here, the \"best\" is the one minimizing the following error on the training set:\n",
    "\\begin{equation}\n",
    "error(j,t)= \\underset{c_1}{min}~\\underset{\\substack{(x,y)\\in \\mathrm{data} \\\\ x_j\\leq t}}{\\sum} (y-c_1)^2 + \\underset{c_2}{min}~\\underset{\\substack{(x,y)\\in \\mathrm{data} \\\\ x_j > t}}{\\sum} (y-c_2)^2.\n",
    "\\end{equation}\n",
    "\n",
    "In order to control the size of the tree, ``chooseSplit`` only consider the splits that result in at least `nmin` examples on both side of the split. For this reason, sometimes, no split can be performed.\n",
    "\n",
    "\n",
    "<font color='red'>**Q1:**</font> When we select the \"best\" split, why is the number of couples $(j,t)$ to compare is finite?\n",
    "\n",
    "\n",
    "Nombre d'exemples finis et nombres de variables explicatives finis. Le range des valeurs pour la variable Xj est aussi fini car on a un nombre finis de points. On ne fera les tests que sur ces valeurs\n",
    "\n",
    "<font color='red'>**Q2:**</font> Assuming the couple $(j,t)$ is selected, what is the value of $c_1$ and $c_2$?\n",
    "La moyenne des y dans chaque classes\n",
    "\n",
    "\n",
    "<font color='red'>**Q3:**</font> The function `chooseSplit` returns the best `(j,t)` if a split is possible, `None` otherwise. Using this function, implement the function `buildTree(X, y, nmin)` described by the Algorithm above. `nmin` is used to control the growth of the tree. It is minimum number of examples in each leaf. \n",
    "\n",
    "<font color='green'>**Hints for Q3:**</font> As a reminder, considering a numpy array `a`, if `condition` is boolean numpy array with a shape similar to `a` then `a[condition]` is a numpy array containing the elements of `a` for which `condition` is true. In addition, one can use `np.logical_not`, considering a numpy boolean array `a`, `np.logical_not(a)` applies the logical operator \"not\" to each element of `a`."
   ]
  },
  {
   "cell_type": "code",
   "execution_count": 1,
   "metadata": {},
   "outputs": [],
   "source": [
    "import pandas as pd\n",
    "import numpy as np\n",
    "import sklearn\n",
    "import sklearn.datasets\n",
    "import sklearn.model_selection\n",
    "\n",
    "def rmse(ypred, y):\n",
    "    return np.sqrt(np.mean((ypred - y) ** 2))\n",
    "\n",
    "def chooseSplit(X, y, nmin):\n",
    "    def sse(y):\n",
    "        e = y - np.mean(y)\n",
    "        return np.sum(e * e)\n",
    "    def error(j, t):\n",
    "        sel = X[:, j] <= t\n",
    "        nsel = np.logical_not(sel)\n",
    "        if np.sum(nsel) >= nmin and np.sum(sel) >= nmin:\n",
    "            s = sse(y[sel]) + sse(y[nsel])\n",
    "        else:\n",
    "            s = float('inf')\n",
    "        return (s, (j, t))\n",
    "    totest = [(j, t) for j in range(X.shape[1]) for t in X[:, j]]\n",
    "    s, (j, t) = min([error(*x) for x in totest])\n",
    "    if s == float('inf'):\n",
    "        return None\n",
    "    else:\n",
    "        return (j, t)\n",
    "    \n",
    "class Leaf:\n",
    "    '''Class storing the Leaf'''\n",
    "    def __init__(self,meany):\n",
    "        self.meany = meany\n",
    "    def __repr__(self):\n",
    "        return \"Leaf({:.2f})\".format(self.meany)\n",
    "    def predict(self, X):\n",
    "        if len(X.shape) == 1:\n",
    "            return self.meany\n",
    "        else:\n",
    "            return np.repeat(self.meany,X.shape[0])\n",
    "    def count_leaves(self):\n",
    "        return 1\n",
    "    \n",
    "class Node:\n",
    "    '''Class storing the Node'''\n",
    "    def __init__(self, split, left, right):\n",
    "        (j, t) = split\n",
    "        self.j = j\n",
    "        self.t = t\n",
    "        self.left = left\n",
    "        self.right = right\n",
    "    def __repr__(self):\n",
    "        return \"Node(j={0.j},t={0.t:.2f},left={0.left},right={0.right})\".format(self)\n",
    "    def predict(self,X):\n",
    "        def predictone(node, Xi):\n",
    "            if isinstance(node, Leaf):\n",
    "                return node.predict(Xi)\n",
    "            elif Xi[node.j] <= node.t:\n",
    "                return predictone(node.left, Xi)\n",
    "            else:\n",
    "                return predictone(node.right, Xi)\n",
    "        return np.array([predictone(self,Xi)  for Xi in X])\n",
    "    def count_leaves(self):\n",
    "        return self.left.count_leaves()+self.right.count_leaves()\n",
    "\n",
    "def load_data():\n",
    "    df = pd.read_csv(\"BostonHousing.csv\")\n",
    "    y = df[\"medv\"].to_numpy()\n",
    "    X = df.drop(columns=[\"medv\"]).to_numpy()\n",
    "    return X,y\n",
    "    \n",
    "def main(nmin=1):\n",
    "    # returns (X, y) two numpy arrays corresponding to the Boston Housing median value prediction problem\n",
    "    X, y = load_data()#sklearn.datasets.load_boston(return_X_y=True)\n",
    "    Xts, Xvs, yts, yvs = sklearn.model_selection.train_test_split(X, y, random_state=42,train_size=350)\n",
    "    m = buildTree(Xts, yts, nmin)    \n",
    "    print(m)\n",
    "    def rmse(ypred, y):\n",
    "        return np.sqrt(np.mean((ypred - y)**2))\n",
    "    print(\"nmin:\", nmin)\n",
    "    print(\"number of leaves:\",m.count_leaves())\n",
    "    print(\"RMSE ON TRAINING SET:\", rmse(m.predict(Xts), yts))\n",
    "    print(\"RMSE ON VALIDATION SET:\", rmse(m.predict(Xvs), yvs))"
   ]
  },
  {
   "cell_type": "code",
   "execution_count": 7,
   "metadata": {
    "tags": [
     "prompt"
    ]
   },
   "outputs": [
    {
     "name": "stdout",
     "output_type": "stream",
     "text": [
      "Node(j=5,t=6.94,left=Node(j=12,t=14.37,left=Node(j=7,t=1.36,left=Leaf(44.48),right=Node(j=5,t=6.54,left=Node(j=5,t=6.03,left=Node(j=10,t=20.20,left=Node(j=5,t=5.76,left=Node(j=12,t=13.15,left=Leaf(17.31),right=Leaf(21.57)),right=Node(j=2,t=5.19,left=Node(j=0,t=0.06,left=Leaf(18.43),right=Leaf(20.02)),right=Node(j=6,t=30.20,left=Leaf(22.88),right=Node(j=2,t=5.96,left=Leaf(19.90),right=Node(j=8,t=4.00,left=Leaf(20.89),right=Node(j=0,t=2.24,left=Leaf(23.24),right=Leaf(20.53))))))),right=Leaf(17.52)),right=Node(j=10,t=20.20,left=Node(j=9,t=403.00,left=Node(j=11,t=387.11,left=Node(j=11,t=376.75,left=Node(j=12,t=9.81,left=Leaf(24.63),right=Leaf(22.06)),right=Leaf(27.22)),right=Node(j=5,t=6.12,left=Node(j=12,t=9.16,left=Leaf(22.63),right=Leaf(21.00)),right=Node(j=11,t=393.55,left=Leaf(22.23),right=Node(j=7,t=6.81,left=Node(j=2,t=6.96,left=Leaf(24.38),right=Node(j=5,t=6.33,left=Leaf(24.08),right=Leaf(22.74))),right=Leaf(22.52))))),right=Node(j=0,t=3.84,left=Leaf(19.58),right=Node(j=0,t=5.20,left=Leaf(23.00),right=Leaf(21.10)))),right=Node(j=0,t=0.13,left=Leaf(20.62),right=Leaf(18.74)))),right=Node(j=12,t=5.68,left=Node(j=10,t=17.80,left=Node(j=11,t=393.37,left=Leaf(30.35),right=Leaf(33.17)),right=Leaf(26.32)),right=Node(j=7,t=3.79,left=Node(j=2,t=8.56,left=Node(j=12,t=6.92,left=Leaf(30.10),right=Leaf(28.38)),right=Leaf(24.32)),right=Node(j=12,t=6.56,left=Leaf(26.22),right=Node(j=12,t=7.39,left=Leaf(24.55),right=Leaf(22.98))))))),right=Node(j=7,t=2.07,left=Node(j=0,t=6.29,left=Node(j=5,t=5.40,left=Leaf(12.57),right=Node(j=12,t=16.90,left=Leaf(17.84),right=Node(j=0,t=0.54,left=Leaf(15.96),right=Leaf(14.42)))),right=Node(j=4,t=0.67,left=Node(j=5,t=5.16,left=Leaf(13.95),right=Leaf(12.41)),right=Node(j=12,t=18.85,left=Leaf(13.90),right=Node(j=0,t=9.60,left=Node(j=4,t=0.69,left=Leaf(10.28),right=Leaf(11.98)),right=Node(j=4,t=0.69,left=Node(j=7,t=1.59,left=Leaf(6.02),right=Leaf(7.83)),right=Node(j=12,t=28.28,left=Leaf(10.30),right=Leaf(7.95))))))),right=Node(j=11,t=306.38,left=Node(j=12,t=17.31,left=Leaf(15.87),right=Node(j=5,t=6.42,left=Leaf(13.25),right=Leaf(13.75))),right=Node(j=6,t=84.40,left=Node(j=11,t=393.29,left=Node(j=9,t=391.00,left=Leaf(22.68),right=Leaf(20.45)),right=Leaf(19.43)),right=Node(j=0,t=0.17,left=Leaf(21.08),right=Node(j=6,t=91.30,left=Leaf(18.38),right=Node(j=12,t=17.60,left=Leaf(17.58),right=Leaf(15.14)))))))),right=Node(j=5,t=7.42,left=Node(j=12,t=9.59,left=Node(j=6,t=91.00,left=Node(j=6,t=76.90,left=Node(j=9,t=252.00,left=Node(j=0,t=0.06,left=Leaf(34.35),right=Leaf(36.02)),right=Node(j=9,t=358.00,left=Node(j=5,t=7.11,left=Leaf(30.48),right=Leaf(32.89)),right=Leaf(35.22))),right=Leaf(26.57)),right=Leaf(40.95)),right=Leaf(23.32)),right=Node(j=10,t=17.80,left=Node(j=0,t=0.58,left=Node(j=12,t=3.13,left=Leaf(42.32),right=Leaf(47.39)),right=Leaf(50.00)),right=Leaf(36.48))))\n",
      "nmin: 4\n",
      "number of leaves: 70\n",
      "RMSE ON TRAINING SET: 2.347589254133365\n",
      "RMSE ON VALIDATION SET: 3.667374697350373\n"
     ]
    }
   ],
   "source": [
    "def buildTree(X, y, nmin=1):\n",
    "    split = chooseSplit(X, y, nmin)\n",
    "    if split is None: return Leaf(y.mean())\n",
    "    else:\n",
    "        j, t = split\n",
    "        mask_left  = X[:, j]<=t\n",
    "        mask_right = np.logical_not(mask_left)\n",
    "        left  = buildTree(X[mask_left], y[mask_left], nmin)\n",
    "        right = buildTree(X[mask_right], y[mask_right], nmin)\n",
    "        return Node(split, left, right)\n",
    "    \n",
    "main(4) # TO UNCOMMENT WHEN buildTree HAS BEEN WRITTEN !"
   ]
  },
  {
   "cell_type": "markdown",
   "metadata": {},
   "source": [
    "<font color='red'>**Q4:**</font> Using `nmin=1`, why the RMSE on the training set is 0 ? Looking at the RMSE on  the validation set, test with `nmin=4`, why the RMSE is reduced ?\n",
    "\n",
    "Les valeurs dans les feuilles sont celles du training donc RMSE=0. RMSE réduite avec nmin=4 sur le validation mais sur le training ça l'augmente. Augmentation du biais mais diminution de la variance.\n",
    "\n",
    "<font color='red'>**Q5:**</font> Rescaling the explanatory variables is an important pre-processing for some methods like neural network or penalized linear regression like Ridge for instance. For the regression tree model seen here, will it change a thing to scale the explanatory variables ? More generally, which property makes this transformation useless ?\n",
    "\n",
    "Pas de changement car les modèles d'arbres aléatoires sont invariants au scaling de transformation monotone"
   ]
  },
  {
   "cell_type": "markdown",
   "metadata": {},
   "source": [
    "<!--bibtex \n",
    "\n",
    "@article{breiman1996bagging,\n",
    "  title={Bagging predictors},\n",
    "  author={Breiman, Leo},\n",
    "  journal={Machine learning},\n",
    "  volume={24},\n",
    "  number={2},\n",
    "  pages={123--140},\n",
    "  year={1996},\n",
    "  publisher={Springer}\n",
    "}\n",
    "@article{breiman2001random,\n",
    "  title={Random forests},\n",
    "  author={Breiman, Leo},\n",
    "  journal={Machine learning},\n",
    "  volume={45},\n",
    "  number={1},\n",
    "  pages={5--32},\n",
    "  year={2001},\n",
    "  publisher={Springer}\n",
    "}\n",
    "\n",
    "-->\n",
    "# Bagging and Random Forest\n",
    "The _bagging_ is a learning meta-algorithm proposed in [(Bagging predictors, L. Breiman, Machine Learning 1996)](https://www.stat.berkeley.edu/~breiman/bagging.pdf). Considering an unstable learning algorithm $\\mathcal{A}$ (low bias and high variance), the _bagging_ computes the mean of several models built by $\\mathcal{A}$. The new learning algorithm obtained through the bagging algorithm have a variance inferior to the variance of $\\mathcal{A}$. This variance reduction reduces the prediction error.\n",
    "\n",
    "The _random forest_ is a learning algorithm proposed in [(Random forests, L. Breiman, Machine Learning 2001)](https://www.stat.berkeley.edu/~breiman/randomforest2001.pdf). It uses the _bagging_ with a learning algorithm that builds a tree model. This tree model is randomly distorted. With this, the estimated mean is computed over very different tree models. This reduces the variance of this estimated mean.\n",
    "## Bagging\n",
    "\n",
    "Let us consider a fixed $x_0$ and $Y_0=(Y|X=x_0)$, using a learning algorithm $\\mathcal{A}$, the _bagging_ takes advantage of the inequation below:\n",
    "$${\\mathbb{E}}_{Y_0,S}[(Y_0-\\mathcal{A}[S](x_0))^2]\\geq {\\mathbb{E}}_{Y_0}[(Y_0-{\\mathbb{E}}_{S}[\\mathcal{A}[S](x_0)])^2]$$ where $\\mathcal{A}[S]$ refers to the model obtained by calling $\\mathcal{A}$ with the training set $S$. The more the learning algorithm $\\mathcal{A}$ is unstable (high variance), the more the difference between these two quantities is large.\n",
    "\n",
    "The idea of the _bagging_ is to predict ${\\mathbb{E}}_{S}[\\mathcal{A}[S](x_0)]$ instead of predicting $\\mathcal{A}[S](x_0)$.  One issue is that we only have access to one training set $S$. To work around this problem, _bootstrap_ samples ${B_1}^{S},\\ldots,{B_b}^{S}$ of $S$ are used. Each _bootstrap_ sample ${B_i}^{S}$ can be regarded as a \"new\" training set. Then, using these ${B_i}^{S}$'s, ${\\mathbb{E}}_{S}[\\mathcal{A}[S](x_0)]$ is estimated by computing the mean of the $\\mathcal{A}[{B_i}^{S}](x_0)$.\n",
    "\n",
    "The _bootstrap_ is a resampling method. It draws a set $B$ from a set $S$ with $\\vert S\\vert=\\vert B\\vert=n$. The set $S$ is assumed to come from $n$ _i.i.d._ draws of a random variable $X$. We want to draw a new set $B$ but can not draw from the true $X$ anymore. Using the draws in $S$, the idea of the _bootstrap_ is to \"simulate\" the draw of $X$. A draw of $X$ will be \"simulated\" by drawing one element of $S$ with a uniform probability. The bootstrap sample $B$ is $n$ \"simulated\" draws.\n",
    "\n",
    "<font color='red'>**Q6:**</font> Write a function `bootstrap(X,y)` that returns a bootstrap sample of `X` and `y`.\n",
    "\n",
    "<font color='green'>**Hints for Q6:**</font> Using [`np.random.choice`](https://docs.scipy.org/doc/numpy-1.15.0/reference/generated/numpy.random.choice.html) (click on it to see the documentation), one can compute a variable `indexes` containing the indexes for the selected examples. Then using this `indexes` one can create new numpy arrays using the syntaxe `array[indexes]` which create a new array containing the elements of `array` at the indexes `indexes`."
   ]
  },
  {
   "cell_type": "code",
   "execution_count": 9,
   "metadata": {
    "tags": [
     "prompt"
    ]
   },
   "outputs": [],
   "source": [
    "def bootstrap(X, y):\n",
    "    size = X.shape[0]\n",
    "    indexes = np.random.choice(size, size=size)\n",
    "    return X[indexes], y[indexes]"
   ]
  },
  {
   "cell_type": "markdown",
   "metadata": {},
   "source": [
    "<font color='red'>**Q7:**</font> Using `bootstrap` and `sklearn.tree.DecisionTreeRegressor`, write the function `bagging(X,y,ntrees,nmin)` that return a list of trees trained using a different bootstrap sample for each tree. Note that the default behavior of `sklearn.tree.DecisionTreeRegressor()` is to grow the tree till there are not enough examples to split (just like in <font color='red'>**Q4**</font>). Here `nmin` is the minimum number of samples in each leaf."
   ]
  },
  {
   "cell_type": "code",
   "execution_count": 25,
   "metadata": {
    "tags": [
     "prompt"
    ]
   },
   "outputs": [],
   "source": [
    "import sklearn.tree\n",
    "def bagging(X, y, ntrees, nmin):\n",
    "    trees = []\n",
    "    for i in range(ntrees):\n",
    "        Xb, yb = bootstrap(X, y)\n",
    "        \n",
    "        t  = sklearn.tree.DecisionTreeRegressor(min_samples_leaf=nmin)\n",
    "        t.fit(X=Xb, y=yb)\n",
    "        \n",
    "        trees.append(t)\n",
    "    return trees"
   ]
  },
  {
   "cell_type": "markdown",
   "metadata": {},
   "source": [
    "<font color='red'>**Q8:**</font> The prediction of a bagged models is the mean of the prediction of each model (a tree here). Write `mean_predict(trees, X)` that returns the mean prediction of the trees `trees` on the input `X`.\n",
    "\n",
    "<font color='green'>**Hints for Q8:**</font> One can initialize a variable `res=0`, and then loop on `trees` to sum the prediction of the tree and then divide the prediction by the number of trees at the end."
   ]
  },
  {
   "cell_type": "code",
   "execution_count": 44,
   "metadata": {
    "tags": [
     "prompt"
    ]
   },
   "outputs": [],
   "source": [
    "def mean_predict(trees, X): \n",
    "    y=np.mean([t.predict(X) for t in trees],axis=0)\n",
    "    return y"
   ]
  },
  {
   "cell_type": "markdown",
   "metadata": {},
   "source": [
    "<font color='red'>**Q9:**</font> Call the function `plotbagging`. This function trains 500 bootstrapped trees on the training set and then plots the performances on the validation sets as a function of the number of trees."
   ]
  },
  {
   "cell_type": "code",
   "execution_count": 41,
   "metadata": {},
   "outputs": [
    {
     "data": {
      "image/png": "[encoded data removed]",
      "text/plain": [
       "<Figure size 640x480 with 1 Axes>"
      ]
     },
     "metadata": {},
     "output_type": "display_data"
    }
   ],
   "source": [
    "import matplotlib.pyplot as plt\n",
    "\n",
    "def predictions_from_trees(predict,trees, X):\n",
    "    return [predict(trees[:i],X) for i in range(1,len(trees)+1)]\n",
    "\n",
    "def rmses_from_predictions(predictions,y):\n",
    "    return [rmse(predi, y) for predi in predictions]\n",
    "\n",
    "def plotbagging():\n",
    "    X, y = load_data()\n",
    "    Xts, Xvs, yts, yvs = sklearn.model_selection.train_test_split(X, y, random_state=42,train_size =350)\n",
    "    ntrees = 500\n",
    "    nmin = 1\n",
    "    baggedtrees = bagging(Xts,yts,ntrees,nmin=nmin)\n",
    "    plt.plot(rmses_from_predictions(predictions_from_trees(mean_predict,baggedtrees,Xvs),yvs))\n",
    "    plt.show()\n",
    "\n",
    "plotbagging() # uncomment and call this function"
   ]
  },
  {
   "cell_type": "markdown",
   "metadata": {},
   "source": [
    "## Random Forest\n",
    "If we consider $X_1,\\ldots,X_b$ _i.i.d._ of variance $\\sigma^2$, we have ${\\mathbb{Var}}\\left[\\frac{1}{b}\\sum_{i=1}^b X_i\\right]=\\frac{\\sigma^2}{b}$. Using this fact, the bagging method averages different prediction to reduce the variance of the predicted value. This is done by predicting $\\frac{1}{b}\\sum_{i=1}^b \\mathcal{A}[{B_i}^{S}](x_0)$ instead of predicting $\\mathcal{A}[S](x_0)$. However, the variables $\\mathcal{A}[{B_i}^{S}](x_0)$ are not independent and they have a correlation coefficient $\\rho\\geq 0$. Thus, we have that ${\\mathbb{Var}}\\left[\\frac{1}{b}\\sum_{i=1}^b \\mathcal{A}[{B_i}^{S}](x_0)\\right]=\\rho \\sigma^2+\\frac{(1-\\rho)}{b}\\sigma^2$. \n",
    "\n",
    "Intuitively, the ${B_i}^{S}$ bootstrap samples are computed on the same $S$: if the drawn $S$ is different from the \"true\" distribution then all the bootstrap samples ${B_i}^{S}$ will be similar to $S$ and thus, they will be similarly different from the \"true\" distribution. \n",
    "\n",
    "The idea of the random forest is to reduce the correlation coefficient $\\rho$. To do this, the split selection is modified. If we have $p$ explanatory variables, instead of considering the $p$ variables for selecting the best split, we only consider $m$ variables. These $m$ variables are selected randomly among the $p$ variables at each split.\n",
    "\n",
    "<font color='red'>**Q10:**</font> When $m=p$, to which algorithm the random forest is equivalent ?\n",
    "\n",
    "Equivalent à CART\n",
    "\n",
    "<font color='red'>**Q11:**</font> When $m$ decreases, how the variance of the random forest algorithm vary ? Similarly, when $m$ decreases, how the bias of the random forest vary ?\n",
    "\n",
    "Quand m diminue, le biais augmente et la variance diminue (car rho diminue et simga2 constant donc rho*sigma2 diminue)\n",
    "\n",
    "<font color='red'>**Q12:**</font> Write the function `random_forest(X, y, ntrees, m, nmin)` that returns a list of tree models. To grow these trees, each split variable will be selected among a random set of $m$ variables. This set is drawn each time a split has to be selected.\n",
    "\n",
    "<font color='green'>**Hints for Q12:**</font> To enforce that each split variable will be selected among a random set of $m$ variables, you can specify the $m$ value through the parameter `max_features` of the constructor `sklearn.tree.DecisionTreeRegressor`. The code of the `random_forest` function will be very similar to the `bagging` one."
   ]
  },
  {
   "cell_type": "code",
   "execution_count": 29,
   "metadata": {
    "tags": [
     "prompt"
    ]
   },
   "outputs": [],
   "source": [
    "def random_forest(X, y, ntrees, m, nmin):\n",
    "    trees = []\n",
    "    for i in range(ntrees):\n",
    "        Xb, yb = bootstrap(X, y)\n",
    "        \n",
    "        t  = sklearn.tree.DecisionTreeRegressor(min_samples_leaf=nmin, max_features=m)\n",
    "        t.fit(X=Xb, y=yb)\n",
    "        \n",
    "        trees.append(t)\n",
    "    return trees"
   ]
  },
  {
   "cell_type": "code",
   "execution_count": 42,
   "metadata": {},
   "outputs": [
    {
     "data": {
      "image/png": "[encoded data removed]",
      "text/plain": [
       "<Figure size 640x480 with 1 Axes>"
      ]
     },
     "metadata": {},
     "output_type": "display_data"
    }
   ],
   "source": [
    "import matplotlib.pyplot as plt\n",
    "\n",
    "def predictions_from_trees(predict,trees, X):\n",
    "    return [predict(trees[:i],X) for i in range(1,len(trees)+1)]\n",
    "\n",
    "def rmses_from_predictions(predictions,y):\n",
    "    return [rmse(predi, y) for predi in predictions]\n",
    "\n",
    "def plotrandomforest():\n",
    "    X, y = load_data()\n",
    "    Xts, Xvs, yts, yvs = sklearn.model_selection.train_test_split(X, y, random_state=42,train_size =350)\n",
    "    ntrees = 500\n",
    "    nmin = 1\n",
    "    m = 5\n",
    "    randomForesttrees = random_forest(Xts,yts,ntrees, m=m, nmin=nmin)\n",
    "    plt.plot(rmses_from_predictions(predictions_from_trees(mean_predict,randomForesttrees,Xvs),yvs))\n",
    "    plt.show()\n",
    "\n",
    "plotrandomforest() # uncomment and call this function"
   ]
  },
  {
   "cell_type": "markdown",
   "metadata": {},
   "source": [
    "# Boosting\n",
    "_Boosting_ is a family of meta-algorithms. Considering a high bias-low variance learning algorithm $\\mathcal{A}$, a _boosting_ meta-algorithm learns a model by combining several models obtained by using $\\mathcal{A}$. As opposed to the _bagging_, the $\\mathcal{A}$ is applied to a different learning problem at each iteration.\n",
    "\n",
    "One of the first boosting algorithm is called _AdaBoost_ ([A decision-theoretic generalization of on-line learning and an application to boosting, Y. Freund and R. Schapire, Journal of computer and system sciences, 1997](https://www.cis.upenn.edu/~mkearns/teaching/COLT/adaboost.pdf)). It modifies the weight of each examples at each iteration. Another boosting algorithm, the _gradient boosting_ ([Greedy function approximation: a gradient boosting machine, J. Friedman, Annals of statistics, 2001](https://statweb.stanford.edu/~jhf/ftp/trebst.pdf)), changes the variable to be predicted at each iteration.\n",
    "\n",
    "Considering a quadratic loss function, the _gradient boosting_ algorithm consists in fitting the residuals at each iteration. The obtained sequence of models $h_1,\\ldots,h_n$ are combined to obtain $h$: $h=\\mu+\\nu \\sum_{i=1}^n h_i$ where $\\nu \\in \\left]0;1\\right]$ is the _shrinkage_ parameter and $\\mu$ is the mean of the variable to predict.\n",
    "\n",
    "\n",
    "<img src=\"algoboost.png\" width=\"500\">\n",
    "\n",
    "<font color='red'>**Q13:**</font> The constructor `sklearn.tree.DecisionTreeRegressor(max_depth)` grows a tree with a depth inferior to `max_depth`. This parameter is usually low, leading to a high bias-low variance learning algorithm. Using this constructor, write the function `gradient_boost(X, y, ntrees, nu, max_depth)` that returns a tuple containing $\\mu$ and the list of fitted trees."
   ]
  },
  {
   "cell_type": "code",
   "execution_count": 48,
   "metadata": {
    "tags": [
     "prompt"
    ]
   },
   "outputs": [],
   "source": [
    "def gradient_boost(X, y, ntrees, nu, max_depth):\n",
    "    ymean = y.mean()\n",
    "    residuals = y - ymean\n",
    "    trees = []\n",
    "    \n",
    "    for i in range(ntrees):\n",
    "        h  = sklearn.tree.DecisionTreeRegressor(max_depth=max_depth)\n",
    "        h.fit(X=X, y=residuals)\n",
    "        \n",
    "        residuals = residuals - nu*h.predict(X)\n",
    "        trees.append(h)\n",
    "    return ymean, trees\n",
    "        "
   ]
  },
  {
   "cell_type": "markdown",
   "metadata": {},
   "source": [
    "<font color='red'>**Q14:**</font> Write the function `predict_from_gb(mu, nu, trees, X)` that returns the predictions of the gradient boosted model on the input `X`. To compute this prediction you will use the model returned by`gradient_boost`. This model is a tuple containing  $\\mu$ and the list of fitted trees. In `predict_from_gb`, these two values are two parameters: `mu` and `trees`.\n",
    "\n",
    "<font color='green'>**Hints for Q14:**</font> One can start by copy-paste the code in <font color='red'>**Q8**</font> as the obtained code should be quite similar."
   ]
  },
  {
   "cell_type": "code",
   "execution_count": 49,
   "metadata": {
    "tags": [
     "prompt"
    ]
   },
   "outputs": [],
   "source": [
    "def predict_from_gb(mu, nu, trees, X):\n",
    "    return mu + nu*np.sum([t.predict(X) for t in trees], axis=0)"
   ]
  },
  {
   "cell_type": "markdown",
   "metadata": {},
   "source": [
    "<font color='red'>**Q15:**</font> Execute the code below to plot the RMSE on the validation as a function of the number of trees."
   ]
  },
  {
   "cell_type": "code",
   "execution_count": 51,
   "metadata": {},
   "outputs": [
    {
     "data": {
      "image/png": "[encoded data removed]",
      "text/plain": [
       "<Figure size 640x480 with 1 Axes>"
      ]
     },
     "metadata": {},
     "output_type": "display_data"
    },
    {
     "name": "stdout",
     "output_type": "stream",
     "text": [
      "12.961988925933838\n"
     ]
    }
   ],
   "source": [
    "import time\n",
    "X, y = load_data()\n",
    "Xts, Xvs, yts, yvs = sklearn.model_selection.train_test_split(X, y, random_state=42,train_size =350)\n",
    "\n",
    "s=time.time()\n",
    "ntrees = 500\n",
    "nmin = 1\n",
    "nu = 0.05\n",
    "max_depth = 3\n",
    "m = 9\n",
    "\n",
    "baggedtrees = bagging(Xts,yts,ntrees,nmin=nmin)\n",
    "baggedrmses = rmses_from_predictions(predictions_from_trees(mean_predict,baggedtrees,Xvs),yvs)\n",
    "\n",
    "rftrees = random_forest(Xts,yts,ntrees,m=m,nmin=nmin)\n",
    "rfrmses = rmses_from_predictions(predictions_from_trees(mean_predict,rftrees,Xvs),yvs)\n",
    "\n",
    "mu, gbtrees = gradient_boost(Xts, yts, ntrees, nu, max_depth)\n",
    "def gbpredict(trees,X):\n",
    "    return predict_from_gb(mu,nu,trees,X)\n",
    "gbrmses = rmses_from_predictions(predictions_from_trees(gbpredict,gbtrees,Xvs),yvs)\n",
    "\n",
    "\n",
    "x = np.arange(1,ntrees+1)\n",
    "for y in [baggedrmses,rfrmses, gbrmses]:\n",
    "    plt.plot(x, y)\n",
    "plt.xlabel(\"Number of trees used\")\n",
    "plt.ylabel(\"RMSE on the validation set\")\n",
    "plt.legend(('Bagged Trees', 'Random Forest', 'Gradient Boosted Trees'), loc='upper right')\n",
    "plt.show()\n",
    "print(time.time()-s)\n"
   ]
  }
 ],
 "metadata": {
  "celltoolbar": "Tags",
  "kernelspec": {
   "display_name": "Python 3 (ipykernel)",
   "language": "python",
   "name": "python3"
  },
  "language_info": {
   "codemirror_mode": {
    "name": "ipython",
    "version": 3
   },
   "file_extension": ".py",
   "mimetype": "text/x-python",
   "name": "python",
   "nbconvert_exporter": "python",
   "pygments_lexer": "ipython3",
   "version": "3.10.12"
  }
 },
 "nbformat": 4,
 "nbformat_minor": 4
}
